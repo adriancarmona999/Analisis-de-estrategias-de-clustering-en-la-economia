{
 "cells": [
  {
   "cell_type": "markdown",
   "id": "ab0e4e50",
   "metadata": {
    "_cell_guid": "15fe66cc-99ac-4a12-aebf-ad6b14ebedbc",
    "_uuid": "bfa9839a-f729-4b65-91dc-8cb45f81892a",
    "papermill": {
     "duration": 0.02791,
     "end_time": "2022-02-20T09:11:53.113413",
     "exception": false,
     "start_time": "2022-02-20T09:11:53.085503",
     "status": "completed"
    },
    "tags": []
   },
   "source": [
    "# Caso de uso para trabajo fin de grado: Analisis de estrategias clustering en la economía\n",
    "En este cuaderno se va a realizar un caso de uso vinculado a la segmentación de clientes"
   ]
  },
  {
   "cell_type": "markdown",
   "id": "1e5c5670",
   "metadata": {
    "_cell_guid": "c15587ce-9010-44db-a73e-62b80f854c7f",
    "_uuid": "de8e3962-e904-4d79-ae21-e30e77322d09",
    "papermill": {
     "duration": 0.024998,
     "end_time": "2022-02-20T09:11:53.167057",
     "exception": false,
     "start_time": "2022-02-20T09:11:53.142059",
     "status": "completed"
    },
    "tags": []
   },
   "source": [
    "# 1. Imports\n",
    "Se importan las librerias y funciones que se van a utilizar en este caso de uso\n"
   ]
  },
  {
   "cell_type": "code",
   "execution_count": 79,
   "id": "e4fc9ff9",
   "metadata": {
    "_cell_guid": "fa290d04-1ec5-4d64-9a8e-e759fadd2ed0",
    "_uuid": "387769cc-2de9-47ad-88c0-8061d3373bd0",
    "collapsed": false,
    "execution": {
     "iopub.execute_input": "2022-02-20T09:11:53.299022Z",
     "iopub.status.busy": "2022-02-20T09:11:53.298376Z",
     "iopub.status.idle": "2022-02-20T09:11:54.258701Z",
     "shell.execute_reply": "2022-02-20T09:11:54.259475Z",
     "shell.execute_reply.started": "2021-10-11T12:04:50.038508Z"
    },
    "jupyter": {
     "outputs_hidden": false
    },
    "papermill": {
     "duration": 1.067412,
     "end_time": "2022-02-20T09:11:54.259738",
     "exception": false,
     "start_time": "2022-02-20T09:11:53.192326",
     "status": "completed"
    },
    "tags": []
   },
   "outputs": [],
   "source": [
    "import pandas as pd \n",
    "import numpy as np\n",
    "import matplotlib.pyplot as plt\n",
    "import seaborn as sns\n",
    "\n",
    "from numpy.random import RandomState\n",
    "from sklearn.preprocessing import MinMaxScaler\n",
    "from sklearn.cluster import KMeans\n",
    "from sklearn.decomposition import PCA\n",
    "from sklearn.cluster import MeanShift, estimate_bandwidth\n",
    "from sklearn.cluster import OPTICS\n",
    "from sklearn.cluster import AgglomerativeClustering\n",
    "from sklearn.cluster import DBSCAN\n",
    "from sklearn.mixture import GaussianMixture\n",
    "from sklearn import metrics\n",
    "from scipy.stats import mode\n",
    "from collections import Counter\n"
   ]
  },
  {
   "cell_type": "markdown",
   "id": "9762f99d",
   "metadata": {
    "_cell_guid": "252bb6c3-818d-4116-a5e2-c224bb377918",
    "_uuid": "90b02550-b55b-4b6c-b982-ebbb50081378",
    "papermill": {
     "duration": 0.037261,
     "end_time": "2022-02-20T09:11:54.339868",
     "exception": false,
     "start_time": "2022-02-20T09:11:54.302607",
     "status": "completed"
    },
    "tags": []
   },
   "source": [
    "# 2. Selección de datos\n",
    "En este caso, la selección es del computo total de datos que se dispone"
   ]
  },
  {
   "cell_type": "code",
   "execution_count": 80,
   "id": "27ab8edc",
   "metadata": {
    "_cell_guid": "f64fe574-1f82-47bf-9121-1b0ce574f2ac",
    "_uuid": "841802dd-7fb6-42f4-95ec-36f26a4b7e50",
    "collapsed": false,
    "execution": {
     "iopub.execute_input": "2022-02-20T09:11:54.395130Z",
     "iopub.status.busy": "2022-02-20T09:11:54.394574Z",
     "iopub.status.idle": "2022-02-20T09:11:54.423695Z",
     "shell.execute_reply": "2022-02-20T09:11:54.423262Z",
     "shell.execute_reply.started": "2021-10-11T12:04:50.046867Z"
    },
    "jupyter": {
     "outputs_hidden": false
    },
    "papermill": {
     "duration": 0.058408,
     "end_time": "2022-02-20T09:11:54.423812",
     "exception": false,
     "start_time": "2022-02-20T09:11:54.365404",
     "status": "completed"
    },
    "tags": []
   },
   "outputs": [],
   "source": [
    "datos = pd.read_excel('customer-set.xlsx', header = 0)\n",
    "datos = datos.drop(['Unnamed: 0'], axis = 1)"
   ]
  },
  {
   "cell_type": "markdown",
   "id": "49f25b12",
   "metadata": {},
   "source": [
    "Echamos un vistazo al dataset cargado:"
   ]
  },
  {
   "cell_type": "code",
   "execution_count": 81,
   "id": "fd143d3a",
   "metadata": {
    "_cell_guid": "3e737e36-0d6c-485d-969a-d09c4faa39e7",
    "_uuid": "16737b38-6da7-4174-811b-1df3aad7f75f",
    "collapsed": false,
    "execution": {
     "iopub.execute_input": "2022-02-20T09:11:54.520955Z",
     "iopub.status.busy": "2022-02-20T09:11:54.519924Z",
     "iopub.status.idle": "2022-02-20T09:11:54.540082Z",
     "shell.execute_reply": "2022-02-20T09:11:54.540563Z",
     "shell.execute_reply.started": "2021-10-11T12:04:50.082466Z"
    },
    "jupyter": {
     "outputs_hidden": false
    },
    "papermill": {
     "duration": 0.076673,
     "end_time": "2022-02-20T09:11:54.540733",
     "exception": false,
     "start_time": "2022-02-20T09:11:54.464060",
     "status": "completed"
    },
    "tags": []
   },
   "outputs": [
    {
     "data": {
      "text/html": [
       "<div>\n",
       "<style scoped>\n",
       "    .dataframe tbody tr th:only-of-type {\n",
       "        vertical-align: middle;\n",
       "    }\n",
       "\n",
       "    .dataframe tbody tr th {\n",
       "        vertical-align: top;\n",
       "    }\n",
       "\n",
       "    .dataframe thead th {\n",
       "        text-align: right;\n",
       "    }\n",
       "</style>\n",
       "<table border=\"1\" class=\"dataframe\">\n",
       "  <thead>\n",
       "    <tr style=\"text-align: right;\">\n",
       "      <th></th>\n",
       "      <th>CustomerID</th>\n",
       "      <th>Gender</th>\n",
       "      <th>Married</th>\n",
       "      <th>Age</th>\n",
       "      <th>Graduated</th>\n",
       "      <th>Profession</th>\n",
       "      <th>WorkExperience</th>\n",
       "      <th>SpendingScore</th>\n",
       "      <th>FamilySize</th>\n",
       "      <th>Category</th>\n",
       "    </tr>\n",
       "  </thead>\n",
       "  <tbody>\n",
       "    <tr>\n",
       "      <th>0</th>\n",
       "      <td>462809</td>\n",
       "      <td>Male</td>\n",
       "      <td>No</td>\n",
       "      <td>22</td>\n",
       "      <td>No</td>\n",
       "      <td>Healthcare</td>\n",
       "      <td>1.0</td>\n",
       "      <td>Low</td>\n",
       "      <td>4.0</td>\n",
       "      <td>Category 4</td>\n",
       "    </tr>\n",
       "    <tr>\n",
       "      <th>1</th>\n",
       "      <td>462643</td>\n",
       "      <td>Female</td>\n",
       "      <td>Yes</td>\n",
       "      <td>38</td>\n",
       "      <td>Yes</td>\n",
       "      <td>Engineer</td>\n",
       "      <td>NaN</td>\n",
       "      <td>Average</td>\n",
       "      <td>3.0</td>\n",
       "      <td>Category 4</td>\n",
       "    </tr>\n",
       "    <tr>\n",
       "      <th>2</th>\n",
       "      <td>466315</td>\n",
       "      <td>Female</td>\n",
       "      <td>Yes</td>\n",
       "      <td>67</td>\n",
       "      <td>Yes</td>\n",
       "      <td>Engineer</td>\n",
       "      <td>1.0</td>\n",
       "      <td>Low</td>\n",
       "      <td>1.0</td>\n",
       "      <td>Category 6</td>\n",
       "    </tr>\n",
       "    <tr>\n",
       "      <th>3</th>\n",
       "      <td>461735</td>\n",
       "      <td>Male</td>\n",
       "      <td>Yes</td>\n",
       "      <td>67</td>\n",
       "      <td>Yes</td>\n",
       "      <td>Lawyer</td>\n",
       "      <td>0.0</td>\n",
       "      <td>High</td>\n",
       "      <td>2.0</td>\n",
       "      <td>Category 6</td>\n",
       "    </tr>\n",
       "    <tr>\n",
       "      <th>4</th>\n",
       "      <td>462669</td>\n",
       "      <td>Female</td>\n",
       "      <td>Yes</td>\n",
       "      <td>40</td>\n",
       "      <td>Yes</td>\n",
       "      <td>Entertainment</td>\n",
       "      <td>NaN</td>\n",
       "      <td>High</td>\n",
       "      <td>6.0</td>\n",
       "      <td>Category 6</td>\n",
       "    </tr>\n",
       "  </tbody>\n",
       "</table>\n",
       "</div>"
      ],
      "text/plain": [
       "   CustomerID  Gender Married  Age Graduated     Profession  WorkExperience  \\\n",
       "0      462809    Male      No   22        No     Healthcare             1.0   \n",
       "1      462643  Female     Yes   38       Yes       Engineer             NaN   \n",
       "2      466315  Female     Yes   67       Yes       Engineer             1.0   \n",
       "3      461735    Male     Yes   67       Yes         Lawyer             0.0   \n",
       "4      462669  Female     Yes   40       Yes  Entertainment             NaN   \n",
       "\n",
       "  SpendingScore  FamilySize    Category  \n",
       "0           Low         4.0  Category 4  \n",
       "1       Average         3.0  Category 4  \n",
       "2           Low         1.0  Category 6  \n",
       "3          High         2.0  Category 6  \n",
       "4          High         6.0  Category 6  "
      ]
     },
     "execution_count": 81,
     "metadata": {},
     "output_type": "execute_result"
    }
   ],
   "source": [
    "datos.head(5) "
   ]
  },
  {
   "cell_type": "markdown",
   "id": "5abde3f1",
   "metadata": {},
   "source": [
    "Comprobamos las dimensiones del dataset:"
   ]
  },
  {
   "cell_type": "code",
   "execution_count": 82,
   "id": "6e568084",
   "metadata": {
    "_cell_guid": "e8921825-6d5d-44a2-9fc5-1cee5d31e7c0",
    "_uuid": "29651058-b99b-474e-bee2-3988fc306071",
    "collapsed": false,
    "execution": {
     "iopub.execute_input": "2022-02-20T09:11:54.597937Z",
     "iopub.status.busy": "2022-02-20T09:11:54.597207Z",
     "iopub.status.idle": "2022-02-20T09:11:54.600138Z",
     "shell.execute_reply": "2022-02-20T09:11:54.600607Z",
     "shell.execute_reply.started": "2021-10-11T12:04:50.100418Z"
    },
    "jupyter": {
     "outputs_hidden": false
    },
    "papermill": {
     "duration": 0.032999,
     "end_time": "2022-02-20T09:11:54.600742",
     "exception": false,
     "start_time": "2022-02-20T09:11:54.567743",
     "status": "completed"
    },
    "tags": []
   },
   "outputs": [
    {
     "data": {
      "text/plain": [
       "(8068, 10)"
      ]
     },
     "execution_count": 82,
     "metadata": {},
     "output_type": "execute_result"
    }
   ],
   "source": [
    "datos.shape "
   ]
  },
  {
   "cell_type": "markdown",
   "id": "4ed41173",
   "metadata": {
    "papermill": {
     "duration": 0.025935,
     "end_time": "2022-02-20T09:11:54.653043",
     "exception": false,
     "start_time": "2022-02-20T09:11:54.627108",
     "status": "completed"
    },
    "tags": []
   },
   "source": [
    "# 3. Analisis exploratorio de los datos y preprocesado de datos "
   ]
  },
  {
   "cell_type": "markdown",
   "id": "eb3d161d",
   "metadata": {},
   "source": [
    "## 3.1. Valores perdidos"
   ]
  },
  {
   "cell_type": "code",
   "execution_count": 83,
   "id": "06673212",
   "metadata": {
    "_cell_guid": "672c73f5-803b-49f0-b6f8-9de5d2e6a520",
    "_uuid": "2ba4ed32-9303-4d67-b15e-34ac169ed79f",
    "collapsed": false,
    "execution": {
     "iopub.execute_input": "2022-02-20T09:11:54.709499Z",
     "iopub.status.busy": "2022-02-20T09:11:54.708785Z",
     "iopub.status.idle": "2022-02-20T09:11:54.739184Z",
     "shell.execute_reply": "2022-02-20T09:11:54.739557Z",
     "shell.execute_reply.started": "2021-10-11T12:04:50.11549Z"
    },
    "jupyter": {
     "outputs_hidden": false
    },
    "papermill": {
     "duration": 0.060617,
     "end_time": "2022-02-20T09:11:54.739679",
     "exception": false,
     "start_time": "2022-02-20T09:11:54.679062",
     "status": "completed"
    },
    "tags": []
   },
   "outputs": [
    {
     "data": {
      "text/html": [
       "<div>\n",
       "<style scoped>\n",
       "    .dataframe tbody tr th:only-of-type {\n",
       "        vertical-align: middle;\n",
       "    }\n",
       "\n",
       "    .dataframe tbody tr th {\n",
       "        vertical-align: top;\n",
       "    }\n",
       "\n",
       "    .dataframe thead th {\n",
       "        text-align: right;\n",
       "    }\n",
       "</style>\n",
       "<table border=\"1\" class=\"dataframe\">\n",
       "  <thead>\n",
       "    <tr style=\"text-align: right;\">\n",
       "      <th></th>\n",
       "      <th>CustomerID</th>\n",
       "      <th>Gender</th>\n",
       "      <th>Married</th>\n",
       "      <th>Age</th>\n",
       "      <th>Graduated</th>\n",
       "      <th>Profession</th>\n",
       "      <th>WorkExperience</th>\n",
       "      <th>SpendingScore</th>\n",
       "      <th>FamilySize</th>\n",
       "      <th>Category</th>\n",
       "    </tr>\n",
       "  </thead>\n",
       "  <tbody>\n",
       "    <tr>\n",
       "      <th>1</th>\n",
       "      <td>462643</td>\n",
       "      <td>Female</td>\n",
       "      <td>Yes</td>\n",
       "      <td>38</td>\n",
       "      <td>Yes</td>\n",
       "      <td>Engineer</td>\n",
       "      <td>NaN</td>\n",
       "      <td>Average</td>\n",
       "      <td>3.0</td>\n",
       "      <td>Category 4</td>\n",
       "    </tr>\n",
       "    <tr>\n",
       "      <th>4</th>\n",
       "      <td>462669</td>\n",
       "      <td>Female</td>\n",
       "      <td>Yes</td>\n",
       "      <td>40</td>\n",
       "      <td>Yes</td>\n",
       "      <td>Entertainment</td>\n",
       "      <td>NaN</td>\n",
       "      <td>High</td>\n",
       "      <td>6.0</td>\n",
       "      <td>Category 6</td>\n",
       "    </tr>\n",
       "    <tr>\n",
       "      <th>12</th>\n",
       "      <td>461230</td>\n",
       "      <td>Female</td>\n",
       "      <td>No</td>\n",
       "      <td>19</td>\n",
       "      <td>No</td>\n",
       "      <td>Executive</td>\n",
       "      <td>0.0</td>\n",
       "      <td>Low</td>\n",
       "      <td>NaN</td>\n",
       "      <td>Category 3</td>\n",
       "    </tr>\n",
       "    <tr>\n",
       "      <th>13</th>\n",
       "      <td>459573</td>\n",
       "      <td>Male</td>\n",
       "      <td>Yes</td>\n",
       "      <td>70</td>\n",
       "      <td>No</td>\n",
       "      <td>Lawyer</td>\n",
       "      <td>NaN</td>\n",
       "      <td>Low</td>\n",
       "      <td>1.0</td>\n",
       "      <td>Category 6</td>\n",
       "    </tr>\n",
       "    <tr>\n",
       "      <th>24</th>\n",
       "      <td>461021</td>\n",
       "      <td>Female</td>\n",
       "      <td>NaN</td>\n",
       "      <td>58</td>\n",
       "      <td>No</td>\n",
       "      <td>Executive</td>\n",
       "      <td>1.0</td>\n",
       "      <td>Average</td>\n",
       "      <td>3.0</td>\n",
       "      <td>Category 3</td>\n",
       "    </tr>\n",
       "    <tr>\n",
       "      <th>...</th>\n",
       "      <td>...</td>\n",
       "      <td>...</td>\n",
       "      <td>...</td>\n",
       "      <td>...</td>\n",
       "      <td>...</td>\n",
       "      <td>...</td>\n",
       "      <td>...</td>\n",
       "      <td>...</td>\n",
       "      <td>...</td>\n",
       "      <td>...</td>\n",
       "    </tr>\n",
       "    <tr>\n",
       "      <th>8040</th>\n",
       "      <td>467165</td>\n",
       "      <td>Female</td>\n",
       "      <td>No</td>\n",
       "      <td>25</td>\n",
       "      <td>No</td>\n",
       "      <td>Homemaker</td>\n",
       "      <td>NaN</td>\n",
       "      <td>Low</td>\n",
       "      <td>1.0</td>\n",
       "      <td>Category 6</td>\n",
       "    </tr>\n",
       "    <tr>\n",
       "      <th>8044</th>\n",
       "      <td>466997</td>\n",
       "      <td>Female</td>\n",
       "      <td>NaN</td>\n",
       "      <td>50</td>\n",
       "      <td>No</td>\n",
       "      <td>Engineer</td>\n",
       "      <td>1.0</td>\n",
       "      <td>Low</td>\n",
       "      <td>2.0</td>\n",
       "      <td>Category 6</td>\n",
       "    </tr>\n",
       "    <tr>\n",
       "      <th>8047</th>\n",
       "      <td>462396</td>\n",
       "      <td>Male</td>\n",
       "      <td>Yes</td>\n",
       "      <td>50</td>\n",
       "      <td>Yes</td>\n",
       "      <td>Doctor</td>\n",
       "      <td>NaN</td>\n",
       "      <td>Average</td>\n",
       "      <td>2.0</td>\n",
       "      <td>Category 6</td>\n",
       "    </tr>\n",
       "    <tr>\n",
       "      <th>8049</th>\n",
       "      <td>461292</td>\n",
       "      <td>Female</td>\n",
       "      <td>Yes</td>\n",
       "      <td>81</td>\n",
       "      <td>No</td>\n",
       "      <td>Lawyer</td>\n",
       "      <td>NaN</td>\n",
       "      <td>High</td>\n",
       "      <td>2.0</td>\n",
       "      <td>Category 3</td>\n",
       "    </tr>\n",
       "    <tr>\n",
       "      <th>8063</th>\n",
       "      <td>464018</td>\n",
       "      <td>Male</td>\n",
       "      <td>No</td>\n",
       "      <td>22</td>\n",
       "      <td>No</td>\n",
       "      <td>NaN</td>\n",
       "      <td>0.0</td>\n",
       "      <td>Low</td>\n",
       "      <td>7.0</td>\n",
       "      <td>Category 1</td>\n",
       "    </tr>\n",
       "  </tbody>\n",
       "</table>\n",
       "<p>1403 rows × 10 columns</p>\n",
       "</div>"
      ],
      "text/plain": [
       "      CustomerID  Gender Married  Age Graduated     Profession  \\\n",
       "1         462643  Female     Yes   38       Yes       Engineer   \n",
       "4         462669  Female     Yes   40       Yes  Entertainment   \n",
       "12        461230  Female      No   19        No      Executive   \n",
       "13        459573    Male     Yes   70        No         Lawyer   \n",
       "24        461021  Female     NaN   58        No      Executive   \n",
       "...          ...     ...     ...  ...       ...            ...   \n",
       "8040      467165  Female      No   25        No      Homemaker   \n",
       "8044      466997  Female     NaN   50        No       Engineer   \n",
       "8047      462396    Male     Yes   50       Yes         Doctor   \n",
       "8049      461292  Female     Yes   81        No         Lawyer   \n",
       "8063      464018    Male      No   22        No            NaN   \n",
       "\n",
       "      WorkExperience SpendingScore  FamilySize    Category  \n",
       "1                NaN       Average         3.0  Category 4  \n",
       "4                NaN          High         6.0  Category 6  \n",
       "12               0.0           Low         NaN  Category 3  \n",
       "13               NaN           Low         1.0  Category 6  \n",
       "24               1.0       Average         3.0  Category 3  \n",
       "...              ...           ...         ...         ...  \n",
       "8040             NaN           Low         1.0  Category 6  \n",
       "8044             1.0           Low         2.0  Category 6  \n",
       "8047             NaN       Average         2.0  Category 6  \n",
       "8049             NaN          High         2.0  Category 3  \n",
       "8063             0.0           Low         7.0  Category 1  \n",
       "\n",
       "[1403 rows x 10 columns]"
      ]
     },
     "execution_count": 83,
     "metadata": {},
     "output_type": "execute_result"
    }
   ],
   "source": [
    "## Genero una mascara booleana con True donde se encuentran los valores perdidos.\n",
    "is_NaN = datos.isnull()\n",
    "registro_con_NaN = is_NaN.any(axis=1)\n",
    "\n",
    "## Filtro los datos para recuperar solamente los registros con valores perdidos.\n",
    "registro_con_NaN = datos[registro_con_NaN]\n",
    "registro_con_NaN"
   ]
  },
  {
   "cell_type": "markdown",
   "id": "560a8d92",
   "metadata": {
    "papermill": {
     "duration": 0.026476,
     "end_time": "2022-02-20T09:11:54.793541",
     "exception": false,
     "start_time": "2022-02-20T09:11:54.767065",
     "status": "completed"
    },
    "tags": []
   },
   "source": [
    "Se tienen 1403 registros de cliente con valores perdidos. El siguiente paso es imputar algun valor para reconocerlos y evitar el valor NaN. Los imputaremos con el valor 'Perdido'."
   ]
  },
  {
   "cell_type": "code",
   "execution_count": 84,
   "id": "20478a84",
   "metadata": {
    "_cell_guid": "8e499c96-1a98-4253-a74a-854269340640",
    "_uuid": "3b220307-e1be-45ec-bb77-b038610f0193",
    "collapsed": false,
    "execution": {
     "iopub.execute_input": "2022-02-20T09:11:54.849985Z",
     "iopub.status.busy": "2022-02-20T09:11:54.849227Z",
     "iopub.status.idle": "2022-02-20T09:11:54.862715Z",
     "shell.execute_reply": "2022-02-20T09:11:54.862309Z",
     "shell.execute_reply.started": "2021-10-11T12:04:50.157356Z"
    },
    "jupyter": {
     "outputs_hidden": false
    },
    "papermill": {
     "duration": 0.042295,
     "end_time": "2022-02-20T09:11:54.862819",
     "exception": false,
     "start_time": "2022-02-20T09:11:54.820524",
     "status": "completed"
    },
    "tags": []
   },
   "outputs": [],
   "source": [
    "datos = datos.fillna(\"Perdido\") "
   ]
  },
  {
   "cell_type": "markdown",
   "id": "d9d74a9a",
   "metadata": {},
   "source": [
    "Podemos comprobar de nuevo el conjunto de datos para comprobar la sustitucion de valores"
   ]
  },
  {
   "cell_type": "code",
   "execution_count": 85,
   "id": "b717f097",
   "metadata": {
    "_cell_guid": "26d215b0-3701-48c9-8af6-250ada6784ff",
    "_uuid": "41ae8963-7398-4b30-8fa8-7a61f0a3bd05",
    "collapsed": false,
    "execution": {
     "iopub.execute_input": "2022-02-20T09:11:54.934912Z",
     "iopub.status.busy": "2022-02-20T09:11:54.934430Z",
     "iopub.status.idle": "2022-02-20T09:11:54.939086Z",
     "shell.execute_reply": "2022-02-20T09:11:54.938567Z",
     "shell.execute_reply.started": "2021-10-11T12:04:50.175406Z"
    },
    "jupyter": {
     "outputs_hidden": false
    },
    "papermill": {
     "duration": 0.045579,
     "end_time": "2022-02-20T09:11:54.939193",
     "exception": false,
     "start_time": "2022-02-20T09:11:54.893614",
     "status": "completed"
    },
    "tags": []
   },
   "outputs": [
    {
     "data": {
      "text/html": [
       "<div>\n",
       "<style scoped>\n",
       "    .dataframe tbody tr th:only-of-type {\n",
       "        vertical-align: middle;\n",
       "    }\n",
       "\n",
       "    .dataframe tbody tr th {\n",
       "        vertical-align: top;\n",
       "    }\n",
       "\n",
       "    .dataframe thead th {\n",
       "        text-align: right;\n",
       "    }\n",
       "</style>\n",
       "<table border=\"1\" class=\"dataframe\">\n",
       "  <thead>\n",
       "    <tr style=\"text-align: right;\">\n",
       "      <th></th>\n",
       "      <th>CustomerID</th>\n",
       "      <th>Gender</th>\n",
       "      <th>Married</th>\n",
       "      <th>Age</th>\n",
       "      <th>Graduated</th>\n",
       "      <th>Profession</th>\n",
       "      <th>WorkExperience</th>\n",
       "      <th>SpendingScore</th>\n",
       "      <th>FamilySize</th>\n",
       "      <th>Category</th>\n",
       "    </tr>\n",
       "  </thead>\n",
       "  <tbody>\n",
       "    <tr>\n",
       "      <th>0</th>\n",
       "      <td>462809</td>\n",
       "      <td>Male</td>\n",
       "      <td>No</td>\n",
       "      <td>22</td>\n",
       "      <td>No</td>\n",
       "      <td>Healthcare</td>\n",
       "      <td>1.0</td>\n",
       "      <td>Low</td>\n",
       "      <td>4.0</td>\n",
       "      <td>Category 4</td>\n",
       "    </tr>\n",
       "    <tr>\n",
       "      <th>1</th>\n",
       "      <td>462643</td>\n",
       "      <td>Female</td>\n",
       "      <td>Yes</td>\n",
       "      <td>38</td>\n",
       "      <td>Yes</td>\n",
       "      <td>Engineer</td>\n",
       "      <td>Perdido</td>\n",
       "      <td>Average</td>\n",
       "      <td>3.0</td>\n",
       "      <td>Category 4</td>\n",
       "    </tr>\n",
       "    <tr>\n",
       "      <th>2</th>\n",
       "      <td>466315</td>\n",
       "      <td>Female</td>\n",
       "      <td>Yes</td>\n",
       "      <td>67</td>\n",
       "      <td>Yes</td>\n",
       "      <td>Engineer</td>\n",
       "      <td>1.0</td>\n",
       "      <td>Low</td>\n",
       "      <td>1.0</td>\n",
       "      <td>Category 6</td>\n",
       "    </tr>\n",
       "  </tbody>\n",
       "</table>\n",
       "</div>"
      ],
      "text/plain": [
       "   CustomerID  Gender Married  Age Graduated  Profession WorkExperience  \\\n",
       "0      462809    Male      No   22        No  Healthcare            1.0   \n",
       "1      462643  Female     Yes   38       Yes    Engineer        Perdido   \n",
       "2      466315  Female     Yes   67       Yes    Engineer            1.0   \n",
       "\n",
       "  SpendingScore FamilySize    Category  \n",
       "0           Low        4.0  Category 4  \n",
       "1       Average        3.0  Category 4  \n",
       "2           Low        1.0  Category 6  "
      ]
     },
     "execution_count": 85,
     "metadata": {},
     "output_type": "execute_result"
    }
   ],
   "source": [
    "datos.head(3) "
   ]
  },
  {
   "cell_type": "markdown",
   "id": "07e65a93",
   "metadata": {
    "papermill": {
     "duration": 0.026984,
     "end_time": "2022-02-20T09:11:54.993324",
     "exception": false,
     "start_time": "2022-02-20T09:11:54.966340",
     "status": "completed"
    },
    "tags": []
   },
   "source": [
    "## 3.2. Analisis de datos.\n",
    "Con el fin de entender mejor nuestros datos y saber situarnos dentro del problema, se generarán graficos para cada variable."
   ]
  },
  {
   "cell_type": "code",
   "execution_count": 86,
   "id": "11852a23",
   "metadata": {
    "_cell_guid": "225f55f9-a9e3-4a78-9169-7f7334d42f39",
    "_uuid": "26932d0a-2c3f-46ea-85dd-9b833672ac2a",
    "collapsed": false,
    "execution": {
     "iopub.execute_input": "2022-02-20T09:11:55.069465Z",
     "iopub.status.busy": "2022-02-20T09:11:55.058487Z",
     "iopub.status.idle": "2022-02-20T09:11:57.031849Z",
     "shell.execute_reply": "2022-02-20T09:11:57.031026Z",
     "shell.execute_reply.started": "2021-10-11T12:04:50.193194Z"
    },
    "jupyter": {
     "outputs_hidden": false
    },
    "papermill": {
     "duration": 2.01127,
     "end_time": "2022-02-20T09:11:57.032040",
     "exception": false,
     "start_time": "2022-02-20T09:11:55.020770",
     "status": "completed"
    },
    "tags": []
   },
   "outputs": [
    {
     "data": {
      "image/png": "[encoded data removed]",
      "text/plain": [
       "<Figure size 1800x1440 with 8 Axes>"
      ]
     },
     "metadata": {
      "needs_background": "light"
     },
     "output_type": "display_data"
    }
   ],
   "source": [
    "## Definicion de la funcion que ploteará las gráficas.\n",
    "def grafica(fig, subplot_id, columna, mapa_color, rotacion_etiquetas):\n",
    "    fig.add_subplot(subplot_id)\n",
    "    long_color = len(datos[columna].unique())\n",
    "    color = mapa_color(np.linspace(0, 1, long_color))\n",
    "    count = datos[columna].value_counts()\n",
    "    plt.title(columna)\n",
    "    count.plot(kind='bar', color=color)\n",
    "    plt.xticks(rotation=rotacion_etiquetas)\n",
    "    # plt.ylabel(\"Count\")\n",
    "    \n",
    "fig = plt.figure(figsize=(25, 20))\n",
    "grafica(fig, 331, \"Gender\", plt.cm.nipy_spectral, \"horizontal\")\n",
    "grafica(fig, 332, \"Married\", plt.cm.nipy_spectral, \"horizontal\")\n",
    "grafica(fig, 333, \"Graduated\", plt.cm.nipy_spectral, \"horizontal\")\n",
    "grafica(fig, 334, \"Profession\", plt.cm.nipy_spectral, \"vertical\")\n",
    "grafica(fig, 335, \"WorkExperience\", plt.cm.nipy_spectral, \"vertical\")\n",
    "grafica(fig, 336, \"SpendingScore\", plt.cm.nipy_spectral, \"horizontal\")\n",
    "grafica(fig, 337, \"FamilySize\", plt.cm.nipy_spectral, \"horizontal\")\n",
    "grafica(fig, 338, \"Category\", plt.cm.nipy_spectral, \"vertical\")\n",
    "plt.show()"
   ]
  },
  {
   "cell_type": "markdown",
   "id": "34c58494",
   "metadata": {
    "papermill": {
     "duration": 0.048281,
     "end_time": "2022-02-20T09:11:57.128783",
     "exception": false,
     "start_time": "2022-02-20T09:11:57.080502",
     "status": "completed"
    },
    "tags": []
   },
   "source": [
    "Para visualizar la edad, como puede tener muchos valores diferentes, se definen intervalos. En concreto se han establecido 9 intervalos"
   ]
  },
  {
   "cell_type": "code",
   "execution_count": 87,
   "id": "a1c37267",
   "metadata": {
    "_cell_guid": "473035e0-3b9a-42d2-93f9-30df3025d3bf",
    "_uuid": "6e0c7d4c-853b-4b30-964a-d312443d105b",
    "collapsed": false,
    "execution": {
     "iopub.execute_input": "2022-02-20T09:11:57.243193Z",
     "iopub.status.busy": "2022-02-20T09:11:57.242417Z",
     "iopub.status.idle": "2022-02-20T09:11:57.719036Z",
     "shell.execute_reply": "2022-02-20T09:11:57.719461Z",
     "shell.execute_reply.started": "2021-10-11T12:04:51.936917Z"
    },
    "jupyter": {
     "outputs_hidden": false
    },
    "papermill": {
     "duration": 0.542537,
     "end_time": "2022-02-20T09:11:57.719616",
     "exception": false,
     "start_time": "2022-02-20T09:11:57.177079",
     "status": "completed"
    },
    "tags": []
   },
   "outputs": [],
   "source": [
    "## Número de intervalos\n",
    "i = 9\n",
    "intervalos = [0, \n",
    "        int(max(datos['Age'])/i), \n",
    "        int(2*max(datos['Age'])/i), \n",
    "        int(3*max(datos['Age'])/i), \n",
    "        int(4*max(datos['Age'])/i), \n",
    "        int(5*max(datos['Age'])/i), \n",
    "        int(6*max(datos['Age'])/i), \n",
    "        int(7*max(datos['Age'])/i),\n",
    "       int(8*max(datos['Age'])/i),\n",
    "        max(datos['Age'])]\n",
    "\n",
    "intervalos_edad = pd.cut(datos['Age'], bins=intervalos)"
   ]
  },
  {
   "cell_type": "code",
   "execution_count": 88,
   "id": "42355689",
   "metadata": {},
   "outputs": [],
   "source": [
    "\n",
    "## Agrupamos los datos segun el genero e intervalo de edad.\n",
    "groupby_df = datos.groupby(['Gender', intervalos_edad]).size().reset_index(name='Count')\n",
    "\n",
    "## Creamos mascaras booleanas para la selección\n",
    "mascara_mujeres = groupby_df['Gender']==\"Female\"\n",
    "mascara_hombres = groupby_df['Gender']==\"Male\"\n",
    "\n",
    "## Seleccionamos aplicando las mascaras definidas anteriormente\n",
    "mujeres_df = groupby_df.loc[mascara_mujeres]\n",
    "hombres_df = groupby_df.loc[mascara_hombres]"
   ]
  },
  {
   "cell_type": "code",
   "execution_count": 89,
   "id": "300044e9",
   "metadata": {},
   "outputs": [
    {
     "data": {
      "image/png": "[encoded data removed]",
      "text/plain": [
       "<Figure size 720x216 with 2 Axes>"
      ]
     },
     "metadata": {
      "needs_background": "light"
     },
     "output_type": "display_data"
    }
   ],
   "source": [
    "## Configuramos la figura que se va a mostrar. Concretamente dos subfiguras.\n",
    "fig, axes = plt.subplots(nrows=1, ncols=2, figsize=(10,3))\n",
    "\n",
    "## Elegimos la paleta de color para la visualización\n",
    "color_mujeres = plt.cm.spring(np.linspace(0, 1, len(mujeres_df['Age'].unique())))\n",
    "color_hombres = plt.cm.winter(np.linspace(0, 1, len(hombres_df['Age'].unique())))\n",
    "\n",
    "## Generamos las subfiguras\n",
    "mujeres_df.plot(x='Age', y='Count', kind = 'bar', color=color_mujeres, title='Mujeres', ax=axes[0])\n",
    "hombres_df.plot(x='Age', y='Count', kind = 'bar', color=color_hombres, title='Hombres', ax=axes[1])\n",
    "\n",
    "## Por ultimo mostramos la figura completa\n",
    "plt.show()"
   ]
  },
  {
   "cell_type": "markdown",
   "id": "25c14ff6",
   "metadata": {},
   "source": [
    "## 3.3 Preprocesado de datos"
   ]
  },
  {
   "cell_type": "markdown",
   "id": "9885ab22",
   "metadata": {},
   "source": [
    "### 3.3.1 Transformación de los datos"
   ]
  },
  {
   "cell_type": "code",
   "execution_count": 90,
   "id": "6d498f7d",
   "metadata": {},
   "outputs": [
    {
     "name": "stdout",
     "output_type": "stream",
     "text": [
      "<class 'pandas.core.frame.DataFrame'>\n",
      "RangeIndex: 8068 entries, 0 to 8067\n",
      "Data columns (total 10 columns):\n",
      " #   Column          Non-Null Count  Dtype \n",
      "---  ------          --------------  ----- \n",
      " 0   CustomerID      8068 non-null   int64 \n",
      " 1   Gender          8068 non-null   object\n",
      " 2   Married         8068 non-null   object\n",
      " 3   Age             8068 non-null   int64 \n",
      " 4   Graduated       8068 non-null   object\n",
      " 5   Profession      8068 non-null   object\n",
      " 6   WorkExperience  8068 non-null   object\n",
      " 7   SpendingScore   8068 non-null   object\n",
      " 8   FamilySize      8068 non-null   object\n",
      " 9   Category        8068 non-null   object\n",
      "dtypes: int64(2), object(8)\n",
      "memory usage: 630.4+ KB\n"
     ]
    }
   ],
   "source": [
    "datos.info()"
   ]
  },
  {
   "cell_type": "markdown",
   "id": "823e5589",
   "metadata": {
    "papermill": {
     "duration": 0.0296,
     "end_time": "2022-02-20T09:11:57.779514",
     "exception": false,
     "start_time": "2022-02-20T09:11:57.749914",
     "status": "completed"
    },
    "tags": []
   },
   "source": [
    "Para emplear las variables categoricas no numericas en las técnicas de clustering, es necesario realizar la transformacion a variables categoricas numéricas. Esto se consigue con la funcion factorize de la libreria Pandas."
   ]
  },
  {
   "cell_type": "code",
   "execution_count": 91,
   "id": "92056732",
   "metadata": {
    "_cell_guid": "bbf4e0fb-70f7-4074-8eca-1f75ba9428fa",
    "_uuid": "1f4fdb80-dcc0-4e3f-90d6-fe13138ea650",
    "collapsed": false,
    "execution": {
     "iopub.execute_input": "2022-02-20T09:11:57.845506Z",
     "iopub.status.busy": "2022-02-20T09:11:57.844601Z",
     "iopub.status.idle": "2022-02-20T09:11:57.854559Z",
     "shell.execute_reply": "2022-02-20T09:11:57.854120Z",
     "shell.execute_reply.started": "2021-10-11T12:04:52.362169Z"
    },
    "jupyter": {
     "outputs_hidden": false
    },
    "papermill": {
     "duration": 0.045389,
     "end_time": "2022-02-20T09:11:57.854663",
     "exception": false,
     "start_time": "2022-02-20T09:11:57.809274",
     "status": "completed"
    },
    "tags": []
   },
   "outputs": [],
   "source": [
    "datos[\"Gender\"] = pd.factorize(datos[\"Gender\"])[0]\n",
    "datos[\"Married\"] = pd.factorize(datos[\"Married\"])[0]\n",
    "datos[\"Graduated\"] = pd.factorize(datos[\"Graduated\"])[0]\n",
    "datos[\"Profession\"] = pd.factorize(datos[\"Profession\"])[0]\n",
    "datos[\"SpendingScore\"] = pd.factorize(datos[\"SpendingScore\"])[0]\n",
    "datos[\"Category\"] = pd.factorize(datos[\"Category\"])[0]"
   ]
  },
  {
   "cell_type": "markdown",
   "id": "099b7ec4",
   "metadata": {},
   "source": [
    "### 3.3.2 Imputacion de valores perdidos"
   ]
  },
  {
   "cell_type": "markdown",
   "id": "fc7efed5",
   "metadata": {
    "papermill": {
     "duration": 0.029597,
     "end_time": "2022-02-20T09:11:57.913971",
     "exception": false,
     "start_time": "2022-02-20T09:11:57.884374",
     "status": "completed"
    },
    "tags": []
   },
   "source": [
    "Para evitar los valores perdidos en la ejecucion de las tecnicas de clustering, se procede a imputar los valores 'Perdidos' por la moda en columnas numericas."
   ]
  },
  {
   "cell_type": "code",
   "execution_count": 92,
   "id": "e48d23f5",
   "metadata": {
    "_cell_guid": "38e64a66-7a79-4e4e-9447-33692b1975d0",
    "_uuid": "a134ad90-e7fc-4433-ac64-6e2825c84713",
    "collapsed": false,
    "execution": {
     "iopub.execute_input": "2022-02-20T09:11:57.982036Z",
     "iopub.status.busy": "2022-02-20T09:11:57.980836Z",
     "iopub.status.idle": "2022-02-20T09:11:57.993645Z",
     "shell.execute_reply": "2022-02-20T09:11:57.994642Z",
     "shell.execute_reply.started": "2021-10-11T12:04:52.380208Z"
    },
    "jupyter": {
     "outputs_hidden": false
    },
    "papermill": {
     "duration": 0.050471,
     "end_time": "2022-02-20T09:11:57.994786",
     "exception": false,
     "start_time": "2022-02-20T09:11:57.944315",
     "status": "completed"
    },
    "tags": []
   },
   "outputs": [],
   "source": [
    "datos[\"WorkExperience\"] = datos[\"WorkExperience\"].replace(\"Perdido\",datos[\"WorkExperience\"].mode()[0])\n",
    "datos[\"FamilySize\"] = datos[\"FamilySize\"].replace(\"Perdido\",datos[\"FamilySize\"].mode()[0])"
   ]
  },
  {
   "cell_type": "markdown",
   "id": "cb6b5652",
   "metadata": {},
   "source": [
    "Podemos comprobar la sustitucion de los valores"
   ]
  },
  {
   "cell_type": "code",
   "execution_count": 93,
   "id": "0babf6b5",
   "metadata": {
    "_cell_guid": "8b936946-cf51-4356-9742-b03fbb612f08",
    "_uuid": "5d6e3bb6-968f-400f-9a51-766ba51a63e8",
    "collapsed": false,
    "execution": {
     "iopub.execute_input": "2022-02-20T09:11:58.068763Z",
     "iopub.status.busy": "2022-02-20T09:11:58.067767Z",
     "iopub.status.idle": "2022-02-20T09:11:58.072504Z",
     "shell.execute_reply": "2022-02-20T09:11:58.072064Z",
     "shell.execute_reply.started": "2021-10-11T12:04:52.394797Z"
    },
    "jupyter": {
     "outputs_hidden": false
    },
    "papermill": {
     "duration": 0.046975,
     "end_time": "2022-02-20T09:11:58.072610",
     "exception": false,
     "start_time": "2022-02-20T09:11:58.025635",
     "status": "completed"
    },
    "tags": []
   },
   "outputs": [
    {
     "data": {
      "text/html": [
       "<div>\n",
       "<style scoped>\n",
       "    .dataframe tbody tr th:only-of-type {\n",
       "        vertical-align: middle;\n",
       "    }\n",
       "\n",
       "    .dataframe tbody tr th {\n",
       "        vertical-align: top;\n",
       "    }\n",
       "\n",
       "    .dataframe thead th {\n",
       "        text-align: right;\n",
       "    }\n",
       "</style>\n",
       "<table border=\"1\" class=\"dataframe\">\n",
       "  <thead>\n",
       "    <tr style=\"text-align: right;\">\n",
       "      <th></th>\n",
       "      <th>CustomerID</th>\n",
       "      <th>Gender</th>\n",
       "      <th>Married</th>\n",
       "      <th>Age</th>\n",
       "      <th>Graduated</th>\n",
       "      <th>Profession</th>\n",
       "      <th>WorkExperience</th>\n",
       "      <th>SpendingScore</th>\n",
       "      <th>FamilySize</th>\n",
       "      <th>Category</th>\n",
       "    </tr>\n",
       "  </thead>\n",
       "  <tbody>\n",
       "    <tr>\n",
       "      <th>0</th>\n",
       "      <td>462809</td>\n",
       "      <td>0</td>\n",
       "      <td>0</td>\n",
       "      <td>22</td>\n",
       "      <td>0</td>\n",
       "      <td>0</td>\n",
       "      <td>1.0</td>\n",
       "      <td>0</td>\n",
       "      <td>4.0</td>\n",
       "      <td>0</td>\n",
       "    </tr>\n",
       "    <tr>\n",
       "      <th>1</th>\n",
       "      <td>462643</td>\n",
       "      <td>1</td>\n",
       "      <td>1</td>\n",
       "      <td>38</td>\n",
       "      <td>1</td>\n",
       "      <td>1</td>\n",
       "      <td>1.0</td>\n",
       "      <td>1</td>\n",
       "      <td>3.0</td>\n",
       "      <td>0</td>\n",
       "    </tr>\n",
       "    <tr>\n",
       "      <th>2</th>\n",
       "      <td>466315</td>\n",
       "      <td>1</td>\n",
       "      <td>1</td>\n",
       "      <td>67</td>\n",
       "      <td>1</td>\n",
       "      <td>1</td>\n",
       "      <td>1.0</td>\n",
       "      <td>0</td>\n",
       "      <td>1.0</td>\n",
       "      <td>1</td>\n",
       "    </tr>\n",
       "    <tr>\n",
       "      <th>3</th>\n",
       "      <td>461735</td>\n",
       "      <td>0</td>\n",
       "      <td>1</td>\n",
       "      <td>67</td>\n",
       "      <td>1</td>\n",
       "      <td>2</td>\n",
       "      <td>0.0</td>\n",
       "      <td>2</td>\n",
       "      <td>2.0</td>\n",
       "      <td>1</td>\n",
       "    </tr>\n",
       "    <tr>\n",
       "      <th>4</th>\n",
       "      <td>462669</td>\n",
       "      <td>1</td>\n",
       "      <td>1</td>\n",
       "      <td>40</td>\n",
       "      <td>1</td>\n",
       "      <td>3</td>\n",
       "      <td>1.0</td>\n",
       "      <td>2</td>\n",
       "      <td>6.0</td>\n",
       "      <td>1</td>\n",
       "    </tr>\n",
       "  </tbody>\n",
       "</table>\n",
       "</div>"
      ],
      "text/plain": [
       "   CustomerID  Gender  Married  Age  Graduated  Profession  WorkExperience  \\\n",
       "0      462809       0        0   22          0           0             1.0   \n",
       "1      462643       1        1   38          1           1             1.0   \n",
       "2      466315       1        1   67          1           1             1.0   \n",
       "3      461735       0        1   67          1           2             0.0   \n",
       "4      462669       1        1   40          1           3             1.0   \n",
       "\n",
       "   SpendingScore  FamilySize  Category  \n",
       "0              0         4.0         0  \n",
       "1              1         3.0         0  \n",
       "2              0         1.0         1  \n",
       "3              2         2.0         1  \n",
       "4              2         6.0         1  "
      ]
     },
     "execution_count": 93,
     "metadata": {},
     "output_type": "execute_result"
    }
   ],
   "source": [
    "datos.head(5) "
   ]
  },
  {
   "cell_type": "markdown",
   "id": "f6d5e80d",
   "metadata": {
    "papermill": {
     "duration": 0.030137,
     "end_time": "2022-02-20T09:11:58.133896",
     "exception": false,
     "start_time": "2022-02-20T09:11:58.103759",
     "status": "completed"
    },
    "tags": []
   },
   "source": [
    "### 3.3.3 Normalización de los datos\n",
    "La normalización nos permite corregir el posible sesgo de los algoritmos hacia ciertas variables debido a sus escalas, ya que los algoritmos trabajan con calculo de distancias."
   ]
  },
  {
   "cell_type": "code",
   "execution_count": 94,
   "id": "c8e1b3f1",
   "metadata": {},
   "outputs": [
    {
     "data": {
      "text/html": [
       "<div>\n",
       "<style scoped>\n",
       "    .dataframe tbody tr th:only-of-type {\n",
       "        vertical-align: middle;\n",
       "    }\n",
       "\n",
       "    .dataframe tbody tr th {\n",
       "        vertical-align: top;\n",
       "    }\n",
       "\n",
       "    .dataframe thead th {\n",
       "        text-align: right;\n",
       "    }\n",
       "</style>\n",
       "<table border=\"1\" class=\"dataframe\">\n",
       "  <thead>\n",
       "    <tr style=\"text-align: right;\">\n",
       "      <th></th>\n",
       "      <th>CustomerID</th>\n",
       "      <th>Gender</th>\n",
       "      <th>Married</th>\n",
       "      <th>Age</th>\n",
       "      <th>Graduated</th>\n",
       "      <th>Profession</th>\n",
       "      <th>WorkExperience</th>\n",
       "      <th>SpendingScore</th>\n",
       "      <th>FamilySize</th>\n",
       "      <th>Category</th>\n",
       "    </tr>\n",
       "  </thead>\n",
       "  <tbody>\n",
       "    <tr>\n",
       "      <th>0</th>\n",
       "      <td>462809</td>\n",
       "      <td>0</td>\n",
       "      <td>0</td>\n",
       "      <td>22</td>\n",
       "      <td>0</td>\n",
       "      <td>0</td>\n",
       "      <td>1.0</td>\n",
       "      <td>0</td>\n",
       "      <td>4.0</td>\n",
       "      <td>0</td>\n",
       "    </tr>\n",
       "    <tr>\n",
       "      <th>1</th>\n",
       "      <td>462643</td>\n",
       "      <td>1</td>\n",
       "      <td>1</td>\n",
       "      <td>38</td>\n",
       "      <td>1</td>\n",
       "      <td>1</td>\n",
       "      <td>1.0</td>\n",
       "      <td>1</td>\n",
       "      <td>3.0</td>\n",
       "      <td>0</td>\n",
       "    </tr>\n",
       "    <tr>\n",
       "      <th>2</th>\n",
       "      <td>466315</td>\n",
       "      <td>1</td>\n",
       "      <td>1</td>\n",
       "      <td>67</td>\n",
       "      <td>1</td>\n",
       "      <td>1</td>\n",
       "      <td>1.0</td>\n",
       "      <td>0</td>\n",
       "      <td>1.0</td>\n",
       "      <td>1</td>\n",
       "    </tr>\n",
       "    <tr>\n",
       "      <th>3</th>\n",
       "      <td>461735</td>\n",
       "      <td>0</td>\n",
       "      <td>1</td>\n",
       "      <td>67</td>\n",
       "      <td>1</td>\n",
       "      <td>2</td>\n",
       "      <td>0.0</td>\n",
       "      <td>2</td>\n",
       "      <td>2.0</td>\n",
       "      <td>1</td>\n",
       "    </tr>\n",
       "    <tr>\n",
       "      <th>4</th>\n",
       "      <td>462669</td>\n",
       "      <td>1</td>\n",
       "      <td>1</td>\n",
       "      <td>40</td>\n",
       "      <td>1</td>\n",
       "      <td>3</td>\n",
       "      <td>1.0</td>\n",
       "      <td>2</td>\n",
       "      <td>6.0</td>\n",
       "      <td>1</td>\n",
       "    </tr>\n",
       "    <tr>\n",
       "      <th>...</th>\n",
       "      <td>...</td>\n",
       "      <td>...</td>\n",
       "      <td>...</td>\n",
       "      <td>...</td>\n",
       "      <td>...</td>\n",
       "      <td>...</td>\n",
       "      <td>...</td>\n",
       "      <td>...</td>\n",
       "      <td>...</td>\n",
       "      <td>...</td>\n",
       "    </tr>\n",
       "    <tr>\n",
       "      <th>8063</th>\n",
       "      <td>464018</td>\n",
       "      <td>0</td>\n",
       "      <td>0</td>\n",
       "      <td>22</td>\n",
       "      <td>0</td>\n",
       "      <td>9</td>\n",
       "      <td>0.0</td>\n",
       "      <td>0</td>\n",
       "      <td>7.0</td>\n",
       "      <td>4</td>\n",
       "    </tr>\n",
       "    <tr>\n",
       "      <th>8064</th>\n",
       "      <td>464685</td>\n",
       "      <td>0</td>\n",
       "      <td>0</td>\n",
       "      <td>35</td>\n",
       "      <td>0</td>\n",
       "      <td>5</td>\n",
       "      <td>3.0</td>\n",
       "      <td>0</td>\n",
       "      <td>4.0</td>\n",
       "      <td>0</td>\n",
       "    </tr>\n",
       "    <tr>\n",
       "      <th>8065</th>\n",
       "      <td>465406</td>\n",
       "      <td>1</td>\n",
       "      <td>0</td>\n",
       "      <td>33</td>\n",
       "      <td>1</td>\n",
       "      <td>0</td>\n",
       "      <td>1.0</td>\n",
       "      <td>0</td>\n",
       "      <td>1.0</td>\n",
       "      <td>1</td>\n",
       "    </tr>\n",
       "    <tr>\n",
       "      <th>8066</th>\n",
       "      <td>467299</td>\n",
       "      <td>1</td>\n",
       "      <td>0</td>\n",
       "      <td>27</td>\n",
       "      <td>1</td>\n",
       "      <td>0</td>\n",
       "      <td>1.0</td>\n",
       "      <td>0</td>\n",
       "      <td>4.0</td>\n",
       "      <td>1</td>\n",
       "    </tr>\n",
       "    <tr>\n",
       "      <th>8067</th>\n",
       "      <td>461879</td>\n",
       "      <td>0</td>\n",
       "      <td>1</td>\n",
       "      <td>37</td>\n",
       "      <td>1</td>\n",
       "      <td>5</td>\n",
       "      <td>0.0</td>\n",
       "      <td>1</td>\n",
       "      <td>3.0</td>\n",
       "      <td>0</td>\n",
       "    </tr>\n",
       "  </tbody>\n",
       "</table>\n",
       "<p>8068 rows × 10 columns</p>\n",
       "</div>"
      ],
      "text/plain": [
       "      CustomerID  Gender  Married  Age  Graduated  Profession  WorkExperience  \\\n",
       "0         462809       0        0   22          0           0             1.0   \n",
       "1         462643       1        1   38          1           1             1.0   \n",
       "2         466315       1        1   67          1           1             1.0   \n",
       "3         461735       0        1   67          1           2             0.0   \n",
       "4         462669       1        1   40          1           3             1.0   \n",
       "...          ...     ...      ...  ...        ...         ...             ...   \n",
       "8063      464018       0        0   22          0           9             0.0   \n",
       "8064      464685       0        0   35          0           5             3.0   \n",
       "8065      465406       1        0   33          1           0             1.0   \n",
       "8066      467299       1        0   27          1           0             1.0   \n",
       "8067      461879       0        1   37          1           5             0.0   \n",
       "\n",
       "      SpendingScore  FamilySize  Category  \n",
       "0                 0         4.0         0  \n",
       "1                 1         3.0         0  \n",
       "2                 0         1.0         1  \n",
       "3                 2         2.0         1  \n",
       "4                 2         6.0         1  \n",
       "...             ...         ...       ...  \n",
       "8063              0         7.0         4  \n",
       "8064              0         4.0         0  \n",
       "8065              0         1.0         1  \n",
       "8066              0         4.0         1  \n",
       "8067              1         3.0         0  \n",
       "\n",
       "[8068 rows x 10 columns]"
      ]
     },
     "execution_count": 94,
     "metadata": {},
     "output_type": "execute_result"
    }
   ],
   "source": [
    "datos"
   ]
  },
  {
   "cell_type": "code",
   "execution_count": 95,
   "id": "a2bba899",
   "metadata": {
    "execution": {
     "iopub.execute_input": "2022-02-20T09:11:58.202791Z",
     "iopub.status.busy": "2022-02-20T09:11:58.201914Z",
     "iopub.status.idle": "2022-02-20T09:11:58.222308Z",
     "shell.execute_reply": "2022-02-20T09:11:58.221880Z",
     "shell.execute_reply.started": "2021-10-11T12:04:52.418405Z"
    },
    "papermill": {
     "duration": 0.055918,
     "end_time": "2022-02-20T09:11:58.222418",
     "exception": false,
     "start_time": "2022-02-20T09:11:58.166500",
     "status": "completed"
    },
    "tags": []
   },
   "outputs": [],
   "source": [
    "## Normalizaremos los datos al intervalo [0,1]\n",
    "scaler = MinMaxScaler(feature_range=(0, 1)) \n",
    "\n",
    "#Normalizaremos todas la variables menos la identificativa de cada cliente\n",
    "datos_normalizados = datos.drop(['CustomerID'],axis=1,)\n",
    "\n",
    "## Adicionalmente, para la visualizacion haremos uso del dataframe sin normalizar pero sin la columna idenqificativa, por lo \n",
    "## se le quita y se guarda en otro datafrme\n",
    "\n",
    "datos_sin_ID = datos.drop(['CustomerID'],axis=1,).copy()\n",
    "usadas = ['Genero','Casado','Edad','Graduado','Profesion','ExperienciaLaboral','Score','Familia','Categoria']\n",
    "datos_sin_ID.columns = usadas\n",
    "num_var = len(datos_sin_ID.columns)"
   ]
  },
  {
   "cell_type": "code",
   "execution_count": 96,
   "id": "e51ebeb8",
   "metadata": {},
   "outputs": [
    {
     "data": {
      "text/html": [
       "<div>\n",
       "<style scoped>\n",
       "    .dataframe tbody tr th:only-of-type {\n",
       "        vertical-align: middle;\n",
       "    }\n",
       "\n",
       "    .dataframe tbody tr th {\n",
       "        vertical-align: top;\n",
       "    }\n",
       "\n",
       "    .dataframe thead th {\n",
       "        text-align: right;\n",
       "    }\n",
       "</style>\n",
       "<table border=\"1\" class=\"dataframe\">\n",
       "  <thead>\n",
       "    <tr style=\"text-align: right;\">\n",
       "      <th></th>\n",
       "      <th>Gender</th>\n",
       "      <th>Married</th>\n",
       "      <th>Age</th>\n",
       "      <th>Graduated</th>\n",
       "      <th>Profession</th>\n",
       "      <th>WorkExperience</th>\n",
       "      <th>SpendingScore</th>\n",
       "      <th>FamilySize</th>\n",
       "      <th>Category</th>\n",
       "    </tr>\n",
       "  </thead>\n",
       "  <tbody>\n",
       "    <tr>\n",
       "      <th>0</th>\n",
       "      <td>0</td>\n",
       "      <td>0</td>\n",
       "      <td>22</td>\n",
       "      <td>0</td>\n",
       "      <td>0</td>\n",
       "      <td>1.0</td>\n",
       "      <td>0</td>\n",
       "      <td>4.0</td>\n",
       "      <td>0</td>\n",
       "    </tr>\n",
       "    <tr>\n",
       "      <th>1</th>\n",
       "      <td>1</td>\n",
       "      <td>1</td>\n",
       "      <td>38</td>\n",
       "      <td>1</td>\n",
       "      <td>1</td>\n",
       "      <td>1.0</td>\n",
       "      <td>1</td>\n",
       "      <td>3.0</td>\n",
       "      <td>0</td>\n",
       "    </tr>\n",
       "    <tr>\n",
       "      <th>2</th>\n",
       "      <td>1</td>\n",
       "      <td>1</td>\n",
       "      <td>67</td>\n",
       "      <td>1</td>\n",
       "      <td>1</td>\n",
       "      <td>1.0</td>\n",
       "      <td>0</td>\n",
       "      <td>1.0</td>\n",
       "      <td>1</td>\n",
       "    </tr>\n",
       "    <tr>\n",
       "      <th>3</th>\n",
       "      <td>0</td>\n",
       "      <td>1</td>\n",
       "      <td>67</td>\n",
       "      <td>1</td>\n",
       "      <td>2</td>\n",
       "      <td>0.0</td>\n",
       "      <td>2</td>\n",
       "      <td>2.0</td>\n",
       "      <td>1</td>\n",
       "    </tr>\n",
       "    <tr>\n",
       "      <th>4</th>\n",
       "      <td>1</td>\n",
       "      <td>1</td>\n",
       "      <td>40</td>\n",
       "      <td>1</td>\n",
       "      <td>3</td>\n",
       "      <td>1.0</td>\n",
       "      <td>2</td>\n",
       "      <td>6.0</td>\n",
       "      <td>1</td>\n",
       "    </tr>\n",
       "    <tr>\n",
       "      <th>...</th>\n",
       "      <td>...</td>\n",
       "      <td>...</td>\n",
       "      <td>...</td>\n",
       "      <td>...</td>\n",
       "      <td>...</td>\n",
       "      <td>...</td>\n",
       "      <td>...</td>\n",
       "      <td>...</td>\n",
       "      <td>...</td>\n",
       "    </tr>\n",
       "    <tr>\n",
       "      <th>8063</th>\n",
       "      <td>0</td>\n",
       "      <td>0</td>\n",
       "      <td>22</td>\n",
       "      <td>0</td>\n",
       "      <td>9</td>\n",
       "      <td>0.0</td>\n",
       "      <td>0</td>\n",
       "      <td>7.0</td>\n",
       "      <td>4</td>\n",
       "    </tr>\n",
       "    <tr>\n",
       "      <th>8064</th>\n",
       "      <td>0</td>\n",
       "      <td>0</td>\n",
       "      <td>35</td>\n",
       "      <td>0</td>\n",
       "      <td>5</td>\n",
       "      <td>3.0</td>\n",
       "      <td>0</td>\n",
       "      <td>4.0</td>\n",
       "      <td>0</td>\n",
       "    </tr>\n",
       "    <tr>\n",
       "      <th>8065</th>\n",
       "      <td>1</td>\n",
       "      <td>0</td>\n",
       "      <td>33</td>\n",
       "      <td>1</td>\n",
       "      <td>0</td>\n",
       "      <td>1.0</td>\n",
       "      <td>0</td>\n",
       "      <td>1.0</td>\n",
       "      <td>1</td>\n",
       "    </tr>\n",
       "    <tr>\n",
       "      <th>8066</th>\n",
       "      <td>1</td>\n",
       "      <td>0</td>\n",
       "      <td>27</td>\n",
       "      <td>1</td>\n",
       "      <td>0</td>\n",
       "      <td>1.0</td>\n",
       "      <td>0</td>\n",
       "      <td>4.0</td>\n",
       "      <td>1</td>\n",
       "    </tr>\n",
       "    <tr>\n",
       "      <th>8067</th>\n",
       "      <td>0</td>\n",
       "      <td>1</td>\n",
       "      <td>37</td>\n",
       "      <td>1</td>\n",
       "      <td>5</td>\n",
       "      <td>0.0</td>\n",
       "      <td>1</td>\n",
       "      <td>3.0</td>\n",
       "      <td>0</td>\n",
       "    </tr>\n",
       "  </tbody>\n",
       "</table>\n",
       "<p>8068 rows × 9 columns</p>\n",
       "</div>"
      ],
      "text/plain": [
       "      Gender  Married  Age  Graduated  Profession  WorkExperience  \\\n",
       "0          0        0   22          0           0             1.0   \n",
       "1          1        1   38          1           1             1.0   \n",
       "2          1        1   67          1           1             1.0   \n",
       "3          0        1   67          1           2             0.0   \n",
       "4          1        1   40          1           3             1.0   \n",
       "...      ...      ...  ...        ...         ...             ...   \n",
       "8063       0        0   22          0           9             0.0   \n",
       "8064       0        0   35          0           5             3.0   \n",
       "8065       1        0   33          1           0             1.0   \n",
       "8066       1        0   27          1           0             1.0   \n",
       "8067       0        1   37          1           5             0.0   \n",
       "\n",
       "      SpendingScore  FamilySize  Category  \n",
       "0                 0         4.0         0  \n",
       "1                 1         3.0         0  \n",
       "2                 0         1.0         1  \n",
       "3                 2         2.0         1  \n",
       "4                 2         6.0         1  \n",
       "...             ...         ...       ...  \n",
       "8063              0         7.0         4  \n",
       "8064              0         4.0         0  \n",
       "8065              0         1.0         1  \n",
       "8066              0         4.0         1  \n",
       "8067              1         3.0         0  \n",
       "\n",
       "[8068 rows x 9 columns]"
      ]
     },
     "execution_count": 96,
     "metadata": {},
     "output_type": "execute_result"
    }
   ],
   "source": [
    "datos_normalizados"
   ]
  },
  {
   "cell_type": "code",
   "execution_count": 97,
   "id": "1379f739",
   "metadata": {},
   "outputs": [],
   "source": [
    "datos_normalizados = scaler.fit_transform(datos_normalizados)\n"
   ]
  },
  {
   "cell_type": "code",
   "execution_count": 98,
   "id": "5039566e",
   "metadata": {},
   "outputs": [
    {
     "data": {
      "text/html": [
       "<div>\n",
       "<style scoped>\n",
       "    .dataframe tbody tr th:only-of-type {\n",
       "        vertical-align: middle;\n",
       "    }\n",
       "\n",
       "    .dataframe tbody tr th {\n",
       "        vertical-align: top;\n",
       "    }\n",
       "\n",
       "    .dataframe thead th {\n",
       "        text-align: right;\n",
       "    }\n",
       "</style>\n",
       "<table border=\"1\" class=\"dataframe\">\n",
       "  <thead>\n",
       "    <tr style=\"text-align: right;\">\n",
       "      <th></th>\n",
       "      <th>Genero</th>\n",
       "      <th>Casado</th>\n",
       "      <th>Edad</th>\n",
       "      <th>Graduado</th>\n",
       "      <th>Profesion</th>\n",
       "      <th>ExperienciaLaboral</th>\n",
       "      <th>Score</th>\n",
       "      <th>Familia</th>\n",
       "      <th>Categoria</th>\n",
       "    </tr>\n",
       "  </thead>\n",
       "  <tbody>\n",
       "    <tr>\n",
       "      <th>0</th>\n",
       "      <td>0.0</td>\n",
       "      <td>0.0</td>\n",
       "      <td>0.056338</td>\n",
       "      <td>0.0</td>\n",
       "      <td>0.000000</td>\n",
       "      <td>0.071429</td>\n",
       "      <td>0.0</td>\n",
       "      <td>0.375</td>\n",
       "      <td>0.000000</td>\n",
       "    </tr>\n",
       "    <tr>\n",
       "      <th>1</th>\n",
       "      <td>1.0</td>\n",
       "      <td>0.5</td>\n",
       "      <td>0.281690</td>\n",
       "      <td>0.5</td>\n",
       "      <td>0.111111</td>\n",
       "      <td>0.071429</td>\n",
       "      <td>0.5</td>\n",
       "      <td>0.250</td>\n",
       "      <td>0.000000</td>\n",
       "    </tr>\n",
       "    <tr>\n",
       "      <th>2</th>\n",
       "      <td>1.0</td>\n",
       "      <td>0.5</td>\n",
       "      <td>0.690141</td>\n",
       "      <td>0.5</td>\n",
       "      <td>0.111111</td>\n",
       "      <td>0.071429</td>\n",
       "      <td>0.0</td>\n",
       "      <td>0.000</td>\n",
       "      <td>0.142857</td>\n",
       "    </tr>\n",
       "    <tr>\n",
       "      <th>3</th>\n",
       "      <td>0.0</td>\n",
       "      <td>0.5</td>\n",
       "      <td>0.690141</td>\n",
       "      <td>0.5</td>\n",
       "      <td>0.222222</td>\n",
       "      <td>0.000000</td>\n",
       "      <td>1.0</td>\n",
       "      <td>0.125</td>\n",
       "      <td>0.142857</td>\n",
       "    </tr>\n",
       "    <tr>\n",
       "      <th>4</th>\n",
       "      <td>1.0</td>\n",
       "      <td>0.5</td>\n",
       "      <td>0.309859</td>\n",
       "      <td>0.5</td>\n",
       "      <td>0.333333</td>\n",
       "      <td>0.071429</td>\n",
       "      <td>1.0</td>\n",
       "      <td>0.625</td>\n",
       "      <td>0.142857</td>\n",
       "    </tr>\n",
       "    <tr>\n",
       "      <th>...</th>\n",
       "      <td>...</td>\n",
       "      <td>...</td>\n",
       "      <td>...</td>\n",
       "      <td>...</td>\n",
       "      <td>...</td>\n",
       "      <td>...</td>\n",
       "      <td>...</td>\n",
       "      <td>...</td>\n",
       "      <td>...</td>\n",
       "    </tr>\n",
       "    <tr>\n",
       "      <th>8063</th>\n",
       "      <td>0.0</td>\n",
       "      <td>0.0</td>\n",
       "      <td>0.056338</td>\n",
       "      <td>0.0</td>\n",
       "      <td>1.000000</td>\n",
       "      <td>0.000000</td>\n",
       "      <td>0.0</td>\n",
       "      <td>0.750</td>\n",
       "      <td>0.571429</td>\n",
       "    </tr>\n",
       "    <tr>\n",
       "      <th>8064</th>\n",
       "      <td>0.0</td>\n",
       "      <td>0.0</td>\n",
       "      <td>0.239437</td>\n",
       "      <td>0.0</td>\n",
       "      <td>0.555556</td>\n",
       "      <td>0.214286</td>\n",
       "      <td>0.0</td>\n",
       "      <td>0.375</td>\n",
       "      <td>0.000000</td>\n",
       "    </tr>\n",
       "    <tr>\n",
       "      <th>8065</th>\n",
       "      <td>1.0</td>\n",
       "      <td>0.0</td>\n",
       "      <td>0.211268</td>\n",
       "      <td>0.5</td>\n",
       "      <td>0.000000</td>\n",
       "      <td>0.071429</td>\n",
       "      <td>0.0</td>\n",
       "      <td>0.000</td>\n",
       "      <td>0.142857</td>\n",
       "    </tr>\n",
       "    <tr>\n",
       "      <th>8066</th>\n",
       "      <td>1.0</td>\n",
       "      <td>0.0</td>\n",
       "      <td>0.126761</td>\n",
       "      <td>0.5</td>\n",
       "      <td>0.000000</td>\n",
       "      <td>0.071429</td>\n",
       "      <td>0.0</td>\n",
       "      <td>0.375</td>\n",
       "      <td>0.142857</td>\n",
       "    </tr>\n",
       "    <tr>\n",
       "      <th>8067</th>\n",
       "      <td>0.0</td>\n",
       "      <td>0.5</td>\n",
       "      <td>0.267606</td>\n",
       "      <td>0.5</td>\n",
       "      <td>0.555556</td>\n",
       "      <td>0.000000</td>\n",
       "      <td>0.5</td>\n",
       "      <td>0.250</td>\n",
       "      <td>0.000000</td>\n",
       "    </tr>\n",
       "  </tbody>\n",
       "</table>\n",
       "<p>8068 rows × 9 columns</p>\n",
       "</div>"
      ],
      "text/plain": [
       "      Genero  Casado      Edad  Graduado  Profesion  ExperienciaLaboral  \\\n",
       "0        0.0     0.0  0.056338       0.0   0.000000            0.071429   \n",
       "1        1.0     0.5  0.281690       0.5   0.111111            0.071429   \n",
       "2        1.0     0.5  0.690141       0.5   0.111111            0.071429   \n",
       "3        0.0     0.5  0.690141       0.5   0.222222            0.000000   \n",
       "4        1.0     0.5  0.309859       0.5   0.333333            0.071429   \n",
       "...      ...     ...       ...       ...        ...                 ...   \n",
       "8063     0.0     0.0  0.056338       0.0   1.000000            0.000000   \n",
       "8064     0.0     0.0  0.239437       0.0   0.555556            0.214286   \n",
       "8065     1.0     0.0  0.211268       0.5   0.000000            0.071429   \n",
       "8066     1.0     0.0  0.126761       0.5   0.000000            0.071429   \n",
       "8067     0.0     0.5  0.267606       0.5   0.555556            0.000000   \n",
       "\n",
       "      Score  Familia  Categoria  \n",
       "0       0.0    0.375   0.000000  \n",
       "1       0.5    0.250   0.000000  \n",
       "2       0.0    0.000   0.142857  \n",
       "3       1.0    0.125   0.142857  \n",
       "4       1.0    0.625   0.142857  \n",
       "...     ...      ...        ...  \n",
       "8063    0.0    0.750   0.571429  \n",
       "8064    0.0    0.375   0.000000  \n",
       "8065    0.0    0.000   0.142857  \n",
       "8066    0.0    0.375   0.142857  \n",
       "8067    0.5    0.250   0.000000  \n",
       "\n",
       "[8068 rows x 9 columns]"
      ]
     },
     "execution_count": 98,
     "metadata": {},
     "output_type": "execute_result"
    }
   ],
   "source": [
    "## Construyo un nuevo datframe con los datos normalizados. \n",
    "df_normalizado = pd.DataFrame(data=datos_normalizados, columns=usadas)\n",
    "df_normalizado.head() # check the result\n",
    "df_normalizado.columns = usadas\n",
    "df_normalizado"
   ]
  },
  {
   "cell_type": "markdown",
   "id": "40a4a7f1",
   "metadata": {
    "papermill": {
     "duration": 0.030277,
     "end_time": "2022-02-20T09:11:58.543862",
     "exception": false,
     "start_time": "2022-02-20T09:11:58.513585",
     "status": "completed"
    },
    "tags": []
   },
   "source": [
    "# 4. Minería de datos. Clustering"
   ]
  },
  {
   "cell_type": "markdown",
   "id": "e6595487",
   "metadata": {},
   "source": [
    "Se van a aplicar las siguientes tecnicas de clustering sobre los datos:\n",
    "- Clustering particional: K-means, Meanshift\n",
    "- Clustering jerarquico: Clustering agglomerativo\n",
    "- Clustering basado en densidad: DBSCAN, OPTICS\n",
    "- Clustering probabilistico: "
   ]
  },
  {
   "cell_type": "markdown",
   "id": "07bedfa0",
   "metadata": {},
   "source": [
    "## 4.1 Estudio del numero de clúster optimo para técnicas particionales (K-means) y estudio de parámetros para clusterings basados en densidad\n",
    "Para realizar el estudio del numero optimo de cluteres, se va a llevar a cabo el método del codo. Este calcula el error cuadratico medio. Se obtendrá una grafica donde en el eje x se representan los valores de K y en el eje y los valores de dicho error. El valor de K optimo se encuentra donde la curva deja de ser lineal para tener un comportamiento mas curvo."
   ]
  },
  {
   "cell_type": "code",
   "execution_count": 99,
   "id": "e00e441c",
   "metadata": {},
   "outputs": [
    {
     "data": {
      "text/plain": [
       "\"\\nSum_of_squared_distances = []\\nK = range(2,20)\\nfor k in K:\\n   km_nombres = KMeans(n_clusters=k, max_iter=300, n_init=10)\\n   km_nombres = km_nombres.fit(df_normalizado)\\n   Sum_of_squared_distances.append(km_nombres.inertia_)\\n   \\nplt.figure(figsize=(15,10))\\nplt.xticks(range(20))\\nplt.plot(K, Sum_of_squared_distances, 'bx-')\\nplt.xlabel('k')\\nplt.ylabel('Sum_of_squared_distances')\\nplt.title('Método del codo para el número de clusters')\\nplt.savefig('metodo_del_codo.png')\\nplt.show()\\n\""
      ]
     },
     "execution_count": 99,
     "metadata": {},
     "output_type": "execute_result"
    }
   ],
   "source": [
    "'''\n",
    "Sum_of_squared_distances = []\n",
    "K = range(2,20)\n",
    "for k in K:\n",
    "   km_nombres = KMeans(n_clusters=k, max_iter=300, n_init=10)\n",
    "   km_nombres = km_nombres.fit(df_normalizado)\n",
    "   Sum_of_squared_distances.append(km_nombres.inertia_)\n",
    "   \n",
    "plt.figure(figsize=(15,10))\n",
    "plt.xticks(range(20))\n",
    "plt.plot(K, Sum_of_squared_distances, 'bx-')\n",
    "plt.xlabel('k')\n",
    "plt.ylabel('Sum_of_squared_distances')\n",
    "plt.title('Método del codo para el número de clusters')\n",
    "plt.savefig('metodo_del_codo.png')\n",
    "plt.show()\n",
    "'''"
   ]
  },
  {
   "cell_type": "markdown",
   "id": "8bf3d775",
   "metadata": {},
   "source": [
    "Se comprueba que la linealidad se pierde en el valor de K = 4. Escogeremos este valor como numero optimo de clusteres."
   ]
  },
  {
   "cell_type": "code",
   "execution_count": 100,
   "id": "2ef724e0",
   "metadata": {},
   "outputs": [],
   "source": [
    "K = 4"
   ]
  },
  {
   "cell_type": "markdown",
   "id": "04df25f2",
   "metadata": {},
   "source": [
    "Ahora haremos el estudio de los parametros para DBSCAN y OPTICS sabiendo que nuestro numero de cluster esperado óptimo es 4.\n",
    "\n",
    "Para el estudio de parámetros de DBSCAN y OPTICS es neccesario evaluar de alguna manera la ejecucion del algoritmo para los diversos valores de los parametros. La manera que en la que se van a evaluar va a ser el desarrollo de mapas de calor con los que visualizar como varia la metrica escogida (INDICE DE CALINSKI HARABASZ). Esta métrica se valora de la siguiente forma: el peor valor posible es 0, cuanto mayor sea el valor , mejor indicativo de similitud entre ejemplos del mismo cluser y de diferenciacion con los de los demas clusters."
   ]
  },
  {
   "cell_type": "code",
   "execution_count": 101,
   "id": "0f199fee",
   "metadata": {},
   "outputs": [],
   "source": [
    "def Calinski_Harabasz(df_normalizado, cluster_predict):\n",
    "    metric_CH = metrics.calinski_harabasz_score(df_normalizado, cluster_predict)\n",
    "    return metric_CH"
   ]
  },
  {
   "cell_type": "markdown",
   "id": "0695220c",
   "metadata": {},
   "source": [
    "Empezaremos por DBSCAN:"
   ]
  },
  {
   "cell_type": "code",
   "execution_count": 102,
   "id": "2b84afa6",
   "metadata": {},
   "outputs": [
    {
     "data": {
      "text/plain": [
       "'\\neps_range = np.arange(0.4, 0.95, 0.05)\\nx_index = eps_range\\npts_range = range(1,12,1)\\ny_index = pts_range\\nlista = []\\n\\nfor n in eps_range:\\n  for p in pts_range:\\n    dbscan = DBSCAN(eps=n,min_samples=p)\\n    dbscan.fit(df_normalizado)\\n    CH = Calinski_Harabasz(df_normalizado, dbscan.labels_)\\n    if(len(set(dbscan.labels_)) == 1): ## No queremos un solo cluster.\\n      CH = 0\\n    lista.append(CH)\\n  \\nN=11\\nmatrix = [lista[n:n+N] for n in range(0,121,N)]\\n\\nhm = pd.DataFrame(data=matrix,index=x_index,columns=pts_range)\\n\\nfig, ax = plt.subplots(figsize=(15,15))\\nsns.heatmap(hm, square=True, ax=ax, cmap=\"YlGnBu\")\\nplt.yticks(rotation=0,fontsize=16);\\nplt.xticks(fontsize=12);\\nplt.tight_layout()\\nplt.savefig(\\'heatmap_CH.png\\')\\n'"
      ]
     },
     "execution_count": 102,
     "metadata": {},
     "output_type": "execute_result"
    }
   ],
   "source": [
    "'''\n",
    "eps_range = np.arange(0.4, 0.95, 0.05)\n",
    "x_index = eps_range\n",
    "pts_range = range(1,12,1)\n",
    "y_index = pts_range\n",
    "lista = []\n",
    "\n",
    "for n in eps_range:\n",
    "  for p in pts_range:\n",
    "    dbscan = DBSCAN(eps=n,min_samples=p)\n",
    "    dbscan.fit(df_normalizado)\n",
    "    CH = Calinski_Harabasz(df_normalizado, dbscan.labels_)\n",
    "    if(len(set(dbscan.labels_)) == 1): ## No queremos un solo cluster.\n",
    "      CH = 0\n",
    "    lista.append(CH)\n",
    "  \n",
    "N=11\n",
    "matrix = [lista[n:n+N] for n in range(0,121,N)]\n",
    "\n",
    "hm = pd.DataFrame(data=matrix,index=x_index,columns=pts_range)\n",
    "\n",
    "fig, ax = plt.subplots(figsize=(15,15))\n",
    "sns.heatmap(hm, square=True, ax=ax, cmap=\"YlGnBu\")\n",
    "plt.yticks(rotation=0,fontsize=16);\n",
    "plt.xticks(fontsize=12);\n",
    "plt.tight_layout()\n",
    "plt.savefig('heatmap_CH.png')\n",
    "'''"
   ]
  },
  {
   "cell_type": "markdown",
   "id": "f76c1901",
   "metadata": {},
   "source": [
    "Ahora sabemos que para las mejores ejecuciones del algoritmo los valores deben encontrarse en los siguientes rangos:\n",
    "\n",
    "eps ->[0.825,0.95]\n",
    "minpts -> [1,10]\n",
    "\n",
    "Como vemos, es bastante dependiente del radio eps.\n",
    "\n",
    "¿Y si quisieramos saber cual es el numero optimo de cluster?\n",
    "Teniendo la calida del agrupamiento segun CH, ejecutaremos el algoritmo para los intervalos anteriores de parametros y veremos cuantos clusters se generan."
   ]
  },
  {
   "cell_type": "code",
   "execution_count": 103,
   "id": "b9c85393",
   "metadata": {},
   "outputs": [
    {
     "data": {
      "text/plain": [
       "\"'\\nnum_clusters = []\\neps = np.arange(0.8, 1.0, 0.025)\\nm_samples = range(1, 12, 1)\\nfor e in eps:\\n   for m in m_samples:\\n      print(e,m)\\n      dbscan = DBSCAN(eps=e, min_samples=m)\\n      dbscan.fit(df_normalizado)\\n      num_clusters.append(len(set(dbscan.labels_)))\\n\\nprint(num_clusters)\\n\""
      ]
     },
     "execution_count": 103,
     "metadata": {},
     "output_type": "execute_result"
    }
   ],
   "source": [
    "''''\n",
    "num_clusters = []\n",
    "eps = np.arange(0.8, 1.0, 0.025)\n",
    "m_samples = range(1, 12, 1)\n",
    "for e in eps:\n",
    "   for m in m_samples:\n",
    "      print(e,m)\n",
    "      dbscan = DBSCAN(eps=e, min_samples=m)\n",
    "      dbscan.fit(df_normalizado)\n",
    "      num_clusters.append(len(set(dbscan.labels_)))\n",
    "\n",
    "print(num_clusters)\n",
    "'''"
   ]
  },
  {
   "cell_type": "code",
   "execution_count": 104,
   "id": "ee789578",
   "metadata": {},
   "outputs": [
    {
     "data": {
      "text/plain": [
       "'\\nprint(Counter(num_clusters).keys())\\nprint(Counter(num_clusters).values())\\n'"
      ]
     },
     "execution_count": 104,
     "metadata": {},
     "output_type": "execute_result"
    }
   ],
   "source": [
    "'''\n",
    "print(Counter(num_clusters).keys())\n",
    "print(Counter(num_clusters).values())\n",
    "'''"
   ]
  },
  {
   "cell_type": "markdown",
   "id": "a5d2eae4",
   "metadata": {},
   "source": [
    "Se puede observar que el numero optimo de clusters para dbscan, de forma que se maximice su rendimiento es de 2 o 3. Por lo que estableceremos sus parametros de la siguiente manera:\n",
    "\n",
    "- eps         -> 0.875\n",
    "- min_samples -> 3\n",
    "\n",
    "El valor bajo de min_samples optimiza el numero de calculos de distancia necesarios para establecer un cluster."
   ]
  },
  {
   "cell_type": "markdown",
   "id": "f49f99f2",
   "metadata": {},
   "source": [
    "Dado que OPTICS es dependendiente de DBSCAN por usarlo como tecnica de clusterización. Utilizaremos los mismos parámetros pero esta vez, EPS sera usado como parametro max_eps."
   ]
  },
  {
   "cell_type": "code",
   "execution_count": 105,
   "id": "d1c330d5",
   "metadata": {},
   "outputs": [],
   "source": [
    "EPS = 0.875\n",
    "MIN_SAMPLES = 3"
   ]
  },
  {
   "cell_type": "markdown",
   "id": "50886b40",
   "metadata": {},
   "source": [
    "## 4.2 Clustering"
   ]
  },
  {
   "cell_type": "markdown",
   "id": "993e2cf4",
   "metadata": {},
   "source": [
    "### 4.2.1. Instanciacion de los objetos para realizar el clustering"
   ]
  },
  {
   "cell_type": "code",
   "execution_count": 106,
   "id": "fdef4552",
   "metadata": {
    "_cell_guid": "d4bb5e12-8f57-4dcd-9d54-371cf9611598",
    "_uuid": "100ad1a9-9a7d-4bb6-9a6b-d5916fbcf6f0",
    "collapsed": false,
    "execution": {
     "iopub.execute_input": "2022-02-20T09:11:58.610876Z",
     "iopub.status.busy": "2022-02-20T09:11:58.609950Z",
     "iopub.status.idle": "2022-02-20T09:11:58.930933Z",
     "shell.execute_reply": "2022-02-20T09:11:58.932407Z",
     "shell.execute_reply.started": "2021-10-11T12:04:52.469426Z"
    },
    "jupyter": {
     "outputs_hidden": false
    },
    "papermill": {
     "duration": 0.357978,
     "end_time": "2022-02-20T09:11:58.932658",
     "exception": false,
     "start_time": "2022-02-20T09:11:58.574680",
     "status": "completed"
    },
    "tags": []
   },
   "outputs": [],
   "source": [
    "## KMEANS\n",
    "kmeans = KMeans(n_clusters=K, random_state=0, max_iter=300, n_init=10, verbose=False)\n",
    "\n",
    "## MEANSHIFT\n",
    "bw = estimate_bandwidth(df_normalizado, quantile=0.25, n_samples = 500, random_state = 123456)\n",
    "meanshift = MeanShift(bandwidth=bw, bin_seeding=True)\n",
    "\n",
    "## CLUSTERING AGLOMERATIVO\n",
    "clustering_aglomerativo = AgglomerativeClustering(n_clusters=K, affinity = 'euclidean', linkage='ward')\n",
    " \n",
    "## DBSCAN\n",
    "dbscan = DBSCAN(eps=0.9, min_samples=10)\n",
    "\n",
    "## OPTICS\n",
    "optics = OPTICS(min_samples=MIN_SAMPLES, cluster_method='dbscan',max_eps=EPS)\n",
    "\n",
    "#CLUSTERING PROBABILISTICO\n",
    "gm = GaussianMixture(n_components=K, random_state=0, init_params='random')"
   ]
  },
  {
   "cell_type": "markdown",
   "id": "5260ad50",
   "metadata": {},
   "source": [
    "### 4.2.2 Ejecución"
   ]
  },
  {
   "cell_type": "code",
   "execution_count": 107,
   "id": "d7ca7e04",
   "metadata": {},
   "outputs": [
    {
     "name": "stdout",
     "output_type": "stream",
     "text": [
      " Etiquetas K-MEANS =  [0 2 1 ... 1 1 3]\n",
      "Número de clusteres diferentes =  4\n",
      " Etiquetas MEANSHIFT =  [0 1 1 ... 1 1 0]\n",
      "Número de clusteres diferentes =  2\n",
      "Etiquetas AGGLOMERATIVO  =  [0 3 1 ... 1 1 2]\n",
      "Número de clusteres diferentes =  4\n"
     ]
    },
    {
     "name": "stderr",
     "output_type": "stream",
     "text": [
      "/Users/adriancarmona/Desktop/ADE_TFG_REPO/Analisis-de-estrategias-de-clustering-en-la-economia/segmentacion/lib/python3.8/site-packages/seaborn/matrix.py:654: UserWarning: Clustering large matrix with scipy. Installing `fastcluster` may give better performance.\n",
      "  warnings.warn(msg)\n"
     ]
    },
    {
     "name": "stdout",
     "output_type": "stream",
     "text": [
      "Etiquetas DBSCAN  =  [0 1 1 ... 1 1 0]\n",
      "Número de clusteres diferentes =  2\n",
      "Etiquetas OPTICS  =  [0 1 1 ... 1 1 0]\n",
      "Número de clusteres diferentes =  2\n",
      "Etiquetas Expc-Max  =  [0 0 1 ... 0 0 0]\n",
      "Número de clusteres diferentes =  4\n"
     ]
    },
    {
     "data": {
      "image/png": "[encoded data removed]",
      "text/plain": [
       "<Figure size 1440x720 with 4 Axes>"
      ]
     },
     "metadata": {
      "needs_background": "light"
     },
     "output_type": "display_data"
    }
   ],
   "source": [
    "\n",
    "# LLAMADA AL METODO FIT.\n",
    "\n",
    "## KMEANS\n",
    "kmeans.fit(df_normalizado)\n",
    "kmeans_labels = kmeans.labels_\n",
    "print(\" Etiquetas K-MEANS = \", kmeans_labels)\n",
    "print('Número de clusteres diferentes = ', len(set(kmeans_labels)))\n",
    "\n",
    "## MEANSHIFT\n",
    "meanshift.fit(df_normalizado)\n",
    "meanshift_labels = meanshift.labels_\n",
    "print(\" Etiquetas MEANSHIFT = \", meanshift_labels)\n",
    "print('Número de clusteres diferentes = ', len(set(meanshift_labels)))\n",
    "\n",
    "## CLUSTERING AGLOMERATIVO\n",
    "clustering_aglomerativo.fit(df_normalizado)\n",
    "clustering_aglomerativo_labels = clustering_aglomerativo.labels_\n",
    "print(\"Etiquetas AGGLOMERATIVO  = \", clustering_aglomerativo_labels)\n",
    "print('Número de clusteres diferentes = ', len(set(clustering_aglomerativo_labels)))\n",
    "\n",
    "sns.clustermap(df_normalizado, method='ward', figsize=(20,10), cmap=\"mako\", yticklabels=False)\n",
    "plt.savefig(\"dendrograma.png\")\n",
    "\n",
    "## DBSCAN\n",
    "dbscan.fit(df_normalizado)\n",
    "dbscan_labels = dbscan.labels_\n",
    "print(\"Etiquetas DBSCAN  = \", dbscan_labels)\n",
    "print('Número de clusteres diferentes = ', len(set(dbscan_labels)))\n",
    "\n",
    "## OPTICS\n",
    "optics.fit(df_normalizado)\n",
    "optics_labels = optics.labels_\n",
    "print(\"Etiquetas OPTICS  = \", optics_labels)\n",
    "print('Número de clusteres diferentes = ', len(set(optics_labels)))\n",
    "\n",
    "#CLUSTERING PROBABILISTICO\n",
    "\n",
    "gm_labels = gm.fit_predict(df_normalizado)\n",
    "print(\"Etiquetas Expc-Max  = \", gm_labels)\n",
    "print('Número de clusteres diferentes = ', len(set(gm_labels)))\n"
   ]
  },
  {
   "cell_type": "markdown",
   "id": "fafe054c",
   "metadata": {
    "papermill": {
     "duration": 0.0377,
     "end_time": "2022-02-20T09:11:59.248888",
     "exception": false,
     "start_time": "2022-02-20T09:11:59.211188",
     "status": "completed"
    },
    "tags": []
   },
   "source": [
    "# 5. Evaluación e interpretación de los resultados\n"
   ]
  },
  {
   "cell_type": "markdown",
   "id": "b390cc5e",
   "metadata": {},
   "source": [
    "## 5.1 Previsualización de resultados\n",
    "En este apartado se definen funciones auxiliares para la creacion de las visualizaciones. Se han obtenido de la práctica 2 de la asignatura Inteligencia de Negocio del Grado en Ingenieria Informatica. Más concretamente de la mencion de sistemas de información.\n",
    "\n",
    "Ademas de la definicion de las funciones, se hace uso de ellas para tratar los datos de manera que las funciones que crean las visualizaciones sean mas compactas y esten aisladas. Esto permite su reutilización."
   ]
  },
  {
   "cell_type": "markdown",
   "id": "88ba67fc",
   "metadata": {},
   "source": [
    "### 5.1.1 Definicion de funciones"
   ]
  },
  {
   "cell_type": "code",
   "execution_count": 108,
   "id": "c1116555",
   "metadata": {
    "_cell_guid": "89335709-3c82-4b2c-92f2-84475aa090b3",
    "_uuid": "b0add8e7-abd4-4696-b31a-6f371a36b2ed",
    "collapsed": false,
    "execution": {
     "iopub.execute_input": "2022-02-20T09:11:59.331065Z",
     "iopub.status.busy": "2022-02-20T09:11:59.330201Z",
     "iopub.status.idle": "2022-02-20T09:11:59.684089Z",
     "shell.execute_reply": "2022-02-20T09:11:59.684530Z",
     "shell.execute_reply.started": "2021-10-11T12:04:53.882615Z"
    },
    "jupyter": {
     "outputs_hidden": false
    },
    "papermill": {
     "duration": 0.397442,
     "end_time": "2022-02-20T09:11:59.684702",
     "exception": false,
     "start_time": "2022-02-20T09:11:59.287260",
     "status": "completed"
    },
    "tags": []
   },
   "outputs": [],
   "source": [
    "def converse_clusters_to_dataframe(cluster_predict,X_normal):\n",
    "    clusters = pd.DataFrame(cluster_predict,index=X_normal.index,columns=['cluster'])\n",
    "    return clusters\n",
    "\n",
    "def get_clusters_centers_desnormal_kmeans_meanshift(k_means,X):\n",
    "    centers = pd.DataFrame(k_means.cluster_centers_ ,columns=list(X))\n",
    "    centers_desnormal = centers.copy()\n",
    "    for var in list(centers):\n",
    "        centers_desnormal[var] = X[var].min() + centers[var] * (X[var].max() - X[var].min())\n",
    "    return centers, centers_desnormal\n",
    "\n",
    "def get_clusters_centers_desnormal(centers_normal,X):\n",
    "    centers_desnormal = centers_normal.copy()\n",
    "    for var in list(centers_normal):\n",
    "        centers_desnormal[var] = X[var].min() + centers_normal[var] * (X[var].max() - X[var].min())\n",
    "    return centers_desnormal\n",
    "\n",
    "def get_cluster_sizes(clusters_df):\n",
    "    print(\"Tamaño de cada cluster:\")\n",
    "    size=clusters_df['cluster'].value_counts()\n",
    "    for num,i in size.iteritems():\n",
    "        print('%s: %5d (%5.2f%%)' % (num,i,100*i/len(clusters_df)))\n",
    "    return size\n",
    "\n",
    "def set_colors(size):\n",
    "    k = len(size)\n",
    "    colors = sns.color_palette(palette='Paired', n_colors=k, desat=None)\n",
    "    return colors,k\n",
    "\n",
    "def scatter_matrix(X_clusters, colors):\n",
    "    sns.set()\n",
    "    variables = list(X_clusters)\n",
    "    variables.remove('cluster')\n",
    "    sns_plot = sns.pairplot(X_clusters, vars=variables, hue=\"cluster\", palette=colors, plot_kws={\"s\": 25}, diag_kind=\"hist\") #en hue indicamos que la columna 'cluster' define los colores\n",
    "    sns_plot.fig.subplots_adjust(wspace=.03, hspace=.03)\n",
    "    sns_plot.fig.set_size_inches(15,15)\n",
    "    \n",
    "def boxplot_axes_config(k,n_var):\n",
    "    fig, axes = plt.subplots(k, n_var, sharey=True,figsize=(15,15))\n",
    "    fig.subplots_adjust(wspace=0,hspace=0)\n",
    "    return fig,axes\n",
    "\n",
    "def boxplot_axes_config(k,n_var):\n",
    "    fig, axes = plt.subplots(k, n_var, sharey=True,figsize=(15,15))\n",
    "    fig.subplots_adjust(wspace=0,hspace=0)\n",
    "    return fig,axes\n",
    "\n",
    "def boxplot(X_clusters,k, colors,axes, centers_sort,usadas):\n",
    "    rango = []\n",
    "    for j in range(num_var):\n",
    "        rango.append([X_clusters[usadas[j]].min(),X_clusters[usadas[j]].max()])\n",
    "    for i in range(k):\n",
    "        \n",
    "        c = centers_sort.index[i].astype(int)## astype(int) necesario para aquellos algortimos en los que los centroides se obtienen a partir de groupby.mean().\n",
    "        \n",
    "        dat_filt = X_clusters.loc[X_clusters['cluster']==c]\n",
    "        for j in range(num_var):\n",
    "           \n",
    "            ax = sns.boxplot(x=dat_filt[usadas[j]], notch=True, color=colors[c], flierprops={'marker':'o','markersize':4}, ax=axes[i,j])\n",
    "\n",
    "            if (i==k-1):\n",
    "                axes[i,j].set_xlabel(usadas[j])\n",
    "            else:\n",
    "                axes[i,j].set_xlabel(\"\")\n",
    "        \n",
    "            if (j==0):\n",
    "               axes[i,j].set_ylabel(\"Cluster \"+str(c))\n",
    "            else:\n",
    "                axes[i,j].set_ylabel(\"\")\n",
    "        \n",
    "            axes[i,j].set_yticks([])\n",
    "            axes[i,j].grid(axis='x', linestyle='-', linewidth='0.2', color='gray')\n",
    "            axes[i,j].grid(axis='y')\n",
    "        \n",
    "            ax.set_xlim(rango[j][0]-0.05*(rango[j][1]-rango[j][0]),rango[j][1]+0.05*(rango[j][1]-rango[j][0]))\n",
    "\n",
    "def heatmap(centers, centers_desnormal):\n",
    "    print(\"---------- Heatmap done! ----------\")\n",
    "    hm = sns.heatmap(centers, cmap=\"YlGnBu\", annot=centers_desnormal, annot_kws={\"fontsize\":18}, fmt='.2f')\n",
    "    hm.set_ylim(len(centers),0)\n",
    "    hm.figure.set_size_inches(15,15)\n",
    "    centers.index -= 1\n",
    "\n"
   ]
  },
  {
   "cell_type": "markdown",
   "id": "98fcd2b5",
   "metadata": {},
   "source": [
    "### 5.1.2 Tratamiento previo a la visualización"
   ]
  },
  {
   "cell_type": "markdown",
   "id": "64e79575",
   "metadata": {},
   "source": [
    "Para cada técnica:\n",
    "\n",
    "- Convierto las series que contienen las etiquetas a objetos dataframe .\n",
    "- Concateno dichos dataframes al dataframe sin normalizar (no queremos visualizar los datos normalizados, sino con sus valores originales).\n",
    "- Calculo y muestro el tamaño de los clusters.\n",
    "- Creo los colores para la visualizacion.\n",
    "- Obtengo los centroides de los grupos. Estos son puntos que caracterizan de alguna forma a cada cluster.\n",
    "- Ordeno los centroides para la visualizacion de boxplots\n",
    "- Configuro los colores y ejes para los boxplots"
   ]
  },
  {
   "cell_type": "code",
   "execution_count": 109,
   "id": "d151e06c",
   "metadata": {},
   "outputs": [
    {
     "name": "stdout",
     "output_type": "stream",
     "text": [
      "Tamaño de los clusters para el algoritmo K-Means:\n",
      "Tamaño de cada cluster:\n",
      "0:  2545 (31.54%)\n",
      "1:  2311 (28.64%)\n",
      "3:  1872 (23.20%)\n",
      "2:  1340 (16.61%)\n",
      "Tamaño de los clusters para el algoritmo MeanShift:\n",
      "Tamaño de cada cluster:\n",
      "0:  4417 (54.75%)\n",
      "1:  3651 (45.25%)\n",
      "Tamaño de los clusters para el algoritmo aglomerativo:\n",
      "Tamaño de cada cluster:\n",
      "0:  2788 (34.56%)\n",
      "1:  2443 (30.28%)\n",
      "2:  1629 (20.19%)\n",
      "3:  1208 (14.97%)\n",
      "Tamaño de los clusters para el algoritmo DBSCAN:\n",
      "Tamaño de cada cluster:\n",
      "0:  4417 (54.75%)\n",
      "1:  3651 (45.25%)\n",
      "Tamaño de los clusters para el algoritmo OPTICS:\n",
      "Tamaño de cada cluster:\n",
      "0:  4417 (54.75%)\n",
      "1:  3651 (45.25%)\n",
      "Tamaño de los clusters para el algoritmo E-M:\n",
      "Tamaño de cada cluster:\n",
      "0:  3950 (48.96%)\n",
      "1:  3189 (39.53%)\n",
      "2:   698 ( 8.65%)\n",
      "3:   231 ( 2.86%)\n"
     ]
    }
   ],
   "source": [
    "## KMEANS\n",
    "clusters_df_kmeans                                      = converse_clusters_to_dataframe(kmeans_labels,df_normalizado)\n",
    "df_normalizado_kmeans_clusters                          = pd.concat([df_normalizado, clusters_df_kmeans], axis=1)\n",
    "print('Tamaño de los clusters para el algoritmo K-Means:')\n",
    "size_cluster_kmeans                                     = get_cluster_sizes(clusters_df_kmeans)\n",
    "colors_kmeans,k_kmeans                                  = set_colors(size_cluster_kmeans)\n",
    "centroides_kmeans, centroides_desnormalizados_kmeans    = get_clusters_centers_desnormal_kmeans_meanshift(kmeans,datos_sin_ID)\n",
    "centroides_desnormalizados_kmeans_sort                  = centroides_desnormalizados_kmeans.sort_values(by=['Edad'])\n",
    "\n",
    "\n",
    "## MEANSHIFT\n",
    "clusters_df_meanshift                                           = converse_clusters_to_dataframe(meanshift_labels,df_normalizado)\n",
    "df_normalizado_meanshift_clusters                               = pd.concat([df_normalizado, clusters_df_meanshift], axis=1)\n",
    "print('Tamaño de los clusters para el algoritmo MeanShift:')\n",
    "size_cluster_meanshift                                          = get_cluster_sizes(clusters_df_meanshift)\n",
    "colors_meanshift, k_meanshift                                   = set_colors(size_cluster_meanshift)\n",
    "centroides_meanshift, centroides_desnormalizados_meanshift      = get_clusters_centers_desnormal_kmeans_meanshift(meanshift,datos_sin_ID)\n",
    "centroides_desnormalizados_meanshift_sort                       = centroides_desnormalizados_meanshift.sort_values(by=['Edad'])\n",
    "\n",
    "## AGLOMERATIVO\n",
    "clusters_df_aglomerativo                        = converse_clusters_to_dataframe(clustering_aglomerativo_labels,df_normalizado)\n",
    "df_normalizado_aglomerativo_clusters            = pd.concat([df_normalizado, clusters_df_aglomerativo], axis=1)\n",
    "df_aglomerativo_clusters                        = pd.concat([datos_sin_ID, clusters_df_aglomerativo], axis=1)\n",
    "print('Tamaño de los clusters para el algoritmo aglomerativo:')\n",
    "size_cluster_aglomerativo                       = get_cluster_sizes(clusters_df_aglomerativo)\n",
    "colors_aglomerativo, k_aglomerativo             = set_colors(size_cluster_aglomerativo)\n",
    "centroides_aglomerativo                         = df_normalizado_aglomerativo_clusters.groupby('cluster').mean()\n",
    "centroides_desnormalizados_aglomerativo         = df_aglomerativo_clusters.groupby('cluster').mean()\n",
    "centroides_desnormalizados_aglomerativo_sort    = centroides_desnormalizados_aglomerativo.sort_values(by=['Edad'])\n",
    "\n",
    "## DBSCAN\n",
    "clusters_df_DBSCAN                      = converse_clusters_to_dataframe(dbscan_labels,df_normalizado)\n",
    "df_normalizado_dbscan_clusters          = pd.concat([df_normalizado, clusters_df_DBSCAN], axis=1)\n",
    "df_dbscan_clusters                     = pd.concat([datos_sin_ID, clusters_df_DBSCAN], axis=1)\n",
    "print('Tamaño de los clusters para el algoritmo DBSCAN:')\n",
    "size_cluster_dbscan                     = get_cluster_sizes(clusters_df_DBSCAN)\n",
    "colors_dbscan, k_dbscan                 = set_colors(size_cluster_dbscan)\n",
    "centroides_dbscan                       = df_normalizado_dbscan_clusters.groupby('cluster').mean()\n",
    "centroides_desnormalizados_dbscan       = df_dbscan_clusters.groupby('cluster').mean()\n",
    "centroides_desnormalizados_dbscan_sort  = centroides_desnormalizados_dbscan.sort_values(by=['Edad'])\n",
    "\n",
    "\n",
    "## OPTICS\n",
    "clusters_df_optics                      = converse_clusters_to_dataframe(optics_labels,df_normalizado)\n",
    "df_normalizado_optics_clusters          = pd.concat([df_normalizado, clusters_df_optics], axis=1)\n",
    "df_optics_clusters                      = pd.concat([datos_sin_ID, clusters_df_optics], axis=1)\n",
    "print('Tamaño de los clusters para el algoritmo OPTICS:')\n",
    "size_cluster_optics                     = get_cluster_sizes(clusters_df_optics)\n",
    "colors_optics, k_optics                 = set_colors(size_cluster_optics)\n",
    "centroides_optics                       = df_normalizado_optics_clusters.groupby('cluster').mean()\n",
    "centroides_desnormalizados_optics       = df_optics_clusters.groupby('cluster').mean()\n",
    "centroides_desnormalizados_optics_sort  = centroides_desnormalizados_optics.sort_values(by=['Edad'])\n",
    "\n",
    "#CLUSTERING PROBABILISTICO\n",
    "clusters_df_gm                      = converse_clusters_to_dataframe(gm_labels,df_normalizado)\n",
    "df_normalizado_gm_clusters          = pd.concat([df_normalizado, clusters_df_gm], axis=1)\n",
    "df_gm_clusters                       = pd.concat([datos_sin_ID, clusters_df_gm], axis=1)\n",
    "print('Tamaño de los clusters para el algoritmo E-M:')\n",
    "size_clusters_gm                    = get_cluster_sizes(clusters_df_gm)\n",
    "colors_gm, k_gm                     = set_colors(size_clusters_gm)\n",
    "centroides_gm                       = df_normalizado_gm_clusters.groupby('cluster').mean()\n",
    "centroides_desnormalizados_gm       = df_gm_clusters.groupby('cluster').mean()\n",
    "centroides_desnormalizados_gm_sort  = centroides_desnormalizados_gm.sort_values(by=['Edad'])\n"
   ]
  },
  {
   "cell_type": "code",
   "execution_count": 110,
   "id": "829dee59",
   "metadata": {},
   "outputs": [
    {
     "data": {
      "image/png": "[encoded data removed]",
      "text/plain": [
       "<Figure size 1080x1080 with 36 Axes>"
      ]
     },
     "metadata": {
      "needs_background": "light"
     },
     "output_type": "display_data"
    },
    {
     "data": {
      "image/png": "[encoded data removed]",
      "text/plain": [
       "<Figure size 1080x1080 with 18 Axes>"
      ]
     },
     "metadata": {
      "needs_background": "light"
     },
     "output_type": "display_data"
    },
    {
     "data": {
      "image/png": "[encoded data removed]",
      "text/plain": [
       "<Figure size 1080x1080 with 36 Axes>"
      ]
     },
     "metadata": {
      "needs_background": "light"
     },
     "output_type": "display_data"
    },
    {
     "data": {
      "image/png": "[encoded data removed]",
      "text/plain": [
       "<Figure size 1080x1080 with 18 Axes>"
      ]
     },
     "metadata": {
      "needs_background": "light"
     },
     "output_type": "display_data"
    },
    {
     "data": {
      "image/png": "[encoded data removed]",
      "text/plain": [
       "<Figure size 1080x1080 with 18 Axes>"
      ]
     },
     "metadata": {
      "needs_background": "light"
     },
     "output_type": "display_data"
    },
    {
     "data": {
      "image/png": "[encoded data removed]",
      "text/plain": [
       "<Figure size 1080x1080 with 36 Axes>"
      ]
     },
     "metadata": {
      "needs_background": "light"
     },
     "output_type": "display_data"
    }
   ],
   "source": [
    "fig_kmeans,axes_kmeans              = boxplot_axes_config(k_kmeans,num_var)\n",
    "fig_meanshift,axes_meanshift        = boxplot_axes_config(k_meanshift,num_var)\n",
    "fig_aglomerativo,axes_aglomerativo = boxplot_axes_config(k_aglomerativo,num_var)\n",
    "fig_dbscan,axes_dbscan              = boxplot_axes_config(k_dbscan,num_var)\n",
    "fig_optics,axes_optics              = boxplot_axes_config(k_optics,num_var)\n",
    "fig_gm,axes_gm                      = boxplot_axes_config(k_gm,num_var)"
   ]
  },
  {
   "cell_type": "markdown",
   "id": "db738d7e",
   "metadata": {},
   "source": [
    "## 5.2 Visualización"
   ]
  },
  {
   "cell_type": "markdown",
   "id": "4d995f69",
   "metadata": {},
   "source": [
    "### 5.2.1 Heatmaps"
   ]
  },
  {
   "cell_type": "code",
   "execution_count": 111,
   "id": "ceb1157f",
   "metadata": {},
   "outputs": [
    {
     "name": "stdout",
     "output_type": "stream",
     "text": [
      "---------- Heatmap done! ----------\n",
      "---------- Heatmap done! ----------\n",
      "---------- Heatmap done! ----------\n",
      "---------- Heatmap done! ----------\n",
      "---------- Heatmap done! ----------\n",
      "---------- Heatmap done! ----------\n"
     ]
    },
    {
     "data": {
      "text/plain": [
       "<Figure size 1080x1080 with 0 Axes>"
      ]
     },
     "metadata": {},
     "output_type": "display_data"
    }
   ],
   "source": [
    "## KMEANS\n",
    "heatmap(centroides_kmeans, centroides_desnormalizados_kmeans)\n",
    "plt.savefig('./heatmaps/heatmap_kmeans.png')\n",
    "plt.clf()\n",
    "\n",
    "## MEANSHIFT\n",
    "heatmap(centroides_meanshift, centroides_desnormalizados_meanshift)\n",
    "plt.savefig('./heatmaps/heatmap_meanshift.png')\n",
    "plt.clf()\n",
    "\n",
    "## AGLOMERATIVO\n",
    "heatmap(centroides_aglomerativo, centroides_desnormalizados_aglomerativo)\n",
    "plt.savefig('./heatmaps/heatmap_aglomerativo.png')\n",
    "plt.clf()\n",
    "\n",
    "## DBSCAN\n",
    "heatmap(centroides_dbscan, centroides_desnormalizados_dbscan)\n",
    "plt.savefig('./heatmaps/heatmap_dbscan.png')\n",
    "plt.clf()\n",
    "\n",
    "## OPTICS\n",
    "heatmap(centroides_optics, centroides_desnormalizados_optics)\n",
    "plt.savefig('./heatmaps/heatmap_optics.png')\n",
    "plt.clf()\n",
    "\n",
    "## GM\n",
    "heatmap(centroides_gm, centroides_desnormalizados_gm)\n",
    "plt.savefig('./heatmaps/heatmap_gm.png')\n",
    "plt.clf()"
   ]
  },
  {
   "cell_type": "markdown",
   "id": "5b001035",
   "metadata": {},
   "source": [
    "### 5.2.2 Boxplots"
   ]
  },
  {
   "cell_type": "code",
   "execution_count": 112,
   "id": "9692f5e9",
   "metadata": {},
   "outputs": [],
   "source": [
    "## KMEANS\n",
    "boxplot_kmeans = boxplot(df_normalizado_kmeans_clusters,k_kmeans, colors_kmeans,axes_kmeans, centroides_desnormalizados_kmeans_sort,datos_sin_ID.columns)\n",
    "fig_kmeans.set_size_inches(20,20)\n",
    "fig_kmeans.savefig('./boxplots/kmeans_boxplot.png', dpi=100)\n",
    "\n",
    "## MEANSHIFT\n",
    "boxplot_meanshift = boxplot(df_normalizado_meanshift_clusters,k_meanshift, colors_meanshift,axes_meanshift, centroides_desnormalizados_meanshift_sort,datos_sin_ID.columns)\n",
    "fig_kmeans.set_size_inches(20,20)\n",
    "fig_kmeans.savefig('./boxplots/meanshift_boxplot.png', dpi=100)\n",
    "\n",
    "## AGLOMERATIVO\n",
    "boxplot_aglomerativo = boxplot(df_normalizado_aglomerativo_clusters,k_aglomerativo, colors_aglomerativo,axes_aglomerativo, centroides_desnormalizados_aglomerativo_sort,datos_sin_ID.columns)\n",
    "fig_aglomerativo.set_size_inches(20,20)\n",
    "fig_aglomerativo.savefig('./boxplots/aglomerativo_boxplot.png', dpi=100)\n",
    "## DBSCAN\n",
    "boxplot_dbscan = boxplot(df_normalizado_dbscan_clusters,k_dbscan, colors_dbscan,axes_dbscan, centroides_desnormalizados_dbscan_sort,datos_sin_ID.columns)\n",
    "fig_dbscan.set_size_inches(20,20)\n",
    "fig_dbscan.savefig('./boxplots/dbscan_boxplot.png', dpi=100)\n",
    "\n",
    "## OPTICS\n",
    "boxplot_optics = boxplot(df_normalizado_optics_clusters,k_optics, colors_optics,axes_optics, centroides_desnormalizados_optics_sort,datos_sin_ID.columns)\n",
    "fig_optics.set_size_inches(20,20)\n",
    "fig_optics.savefig('./boxplots/optics_boxplot.png', dpi=100)\n",
    "\n",
    "#CLUSTERING PROBABILISTICO\n",
    "boxplot_gm = boxplot(df_normalizado_gm_clusters,k_gm, colors_gm,axes_gm, centroides_desnormalizados_gm_sort,datos_sin_ID.columns)\n",
    "fig_gm.set_size_inches(20,20)\n",
    "fig_gm.savefig('./boxplots/gm_boxplot.png', dpi=100)"
   ]
  },
  {
   "cell_type": "markdown",
   "id": "1b2aa39c",
   "metadata": {},
   "source": [
    "### 5.2.3 Scatter Matrix"
   ]
  },
  {
   "cell_type": "code",
   "execution_count": 113,
   "id": "37464a61",
   "metadata": {},
   "outputs": [
    {
     "ename": "KeyboardInterrupt",
     "evalue": "",
     "output_type": "error",
     "traceback": [
      "\u001b[0;31m---------------------------------------------------------------------------\u001b[0m",
      "\u001b[0;31mKeyboardInterrupt\u001b[0m                         Traceback (most recent call last)",
      "\u001b[1;32m/Users/adriancarmona/Desktop/ADE_TFG_REPO/Analisis-de-estrategias-de-clustering-en-la-economia/automobile-customer-clustering-k-means-pca.ipynb Cell 74'\u001b[0m in \u001b[0;36m<cell line: 15>\u001b[0;34m()\u001b[0m\n\u001b[1;32m     <a href='vscode-notebook-cell:/Users/adriancarmona/Desktop/ADE_TFG_REPO/Analisis-de-estrategias-de-clustering-en-la-economia/automobile-customer-clustering-k-means-pca.ipynb#ch0000095?line=12'>13</a>\u001b[0m \u001b[39m## DBSCAN\u001b[39;00m\n\u001b[1;32m     <a href='vscode-notebook-cell:/Users/adriancarmona/Desktop/ADE_TFG_REPO/Analisis-de-estrategias-de-clustering-en-la-economia/automobile-customer-clustering-k-means-pca.ipynb#ch0000095?line=13'>14</a>\u001b[0m dbscan_SC_mat \u001b[39m=\u001b[39m scatter_matrix(df_normalizado_dbscan_clusters, colors_dbscan)\n\u001b[0;32m---> <a href='vscode-notebook-cell:/Users/adriancarmona/Desktop/ADE_TFG_REPO/Analisis-de-estrategias-de-clustering-en-la-economia/automobile-customer-clustering-k-means-pca.ipynb#ch0000095?line=14'>15</a>\u001b[0m plt\u001b[39m.\u001b[39;49msavefig(\u001b[39m'\u001b[39;49m\u001b[39m./sc_matrix/dbscan_sc_matrix.png\u001b[39;49m\u001b[39m'\u001b[39;49m, dpi\u001b[39m=\u001b[39;49m\u001b[39m100\u001b[39;49m)\n\u001b[1;32m     <a href='vscode-notebook-cell:/Users/adriancarmona/Desktop/ADE_TFG_REPO/Analisis-de-estrategias-de-clustering-en-la-economia/automobile-customer-clustering-k-means-pca.ipynb#ch0000095?line=16'>17</a>\u001b[0m \u001b[39m## OPTICS\u001b[39;00m\n\u001b[1;32m     <a href='vscode-notebook-cell:/Users/adriancarmona/Desktop/ADE_TFG_REPO/Analisis-de-estrategias-de-clustering-en-la-economia/automobile-customer-clustering-k-means-pca.ipynb#ch0000095?line=17'>18</a>\u001b[0m optics_SC_mat \u001b[39m=\u001b[39m scatter_matrix(df_normalizado_optics_clusters, colors_optics)\n",
      "File \u001b[0;32m~/Desktop/ADE_TFG_REPO/Analisis-de-estrategias-de-clustering-en-la-economia/segmentacion/lib/python3.8/site-packages/matplotlib/pyplot.py:980\u001b[0m, in \u001b[0;36msavefig\u001b[0;34m(*args, **kwargs)\u001b[0m\n\u001b[1;32m    <a href='file:///Users/adriancarmona/Desktop/ADE_TFG_REPO/Analisis-de-estrategias-de-clustering-en-la-economia/segmentacion/lib/python3.8/site-packages/matplotlib/pyplot.py?line=977'>978</a>\u001b[0m fig \u001b[39m=\u001b[39m gcf()\n\u001b[1;32m    <a href='file:///Users/adriancarmona/Desktop/ADE_TFG_REPO/Analisis-de-estrategias-de-clustering-en-la-economia/segmentacion/lib/python3.8/site-packages/matplotlib/pyplot.py?line=978'>979</a>\u001b[0m res \u001b[39m=\u001b[39m fig\u001b[39m.\u001b[39msavefig(\u001b[39m*\u001b[39margs, \u001b[39m*\u001b[39m\u001b[39m*\u001b[39mkwargs)\n\u001b[0;32m--> <a href='file:///Users/adriancarmona/Desktop/ADE_TFG_REPO/Analisis-de-estrategias-de-clustering-en-la-economia/segmentacion/lib/python3.8/site-packages/matplotlib/pyplot.py?line=979'>980</a>\u001b[0m fig\u001b[39m.\u001b[39;49mcanvas\u001b[39m.\u001b[39;49mdraw_idle()   \u001b[39m# need this if 'transparent=True' to reset colors\u001b[39;00m\n\u001b[1;32m    <a href='file:///Users/adriancarmona/Desktop/ADE_TFG_REPO/Analisis-de-estrategias-de-clustering-en-la-economia/segmentacion/lib/python3.8/site-packages/matplotlib/pyplot.py?line=980'>981</a>\u001b[0m \u001b[39mreturn\u001b[39;00m res\n",
      "File \u001b[0;32m~/Desktop/ADE_TFG_REPO/Analisis-de-estrategias-de-clustering-en-la-economia/segmentacion/lib/python3.8/site-packages/matplotlib/backend_bases.py:2060\u001b[0m, in \u001b[0;36mFigureCanvasBase.draw_idle\u001b[0;34m(self, *args, **kwargs)\u001b[0m\n\u001b[1;32m   <a href='file:///Users/adriancarmona/Desktop/ADE_TFG_REPO/Analisis-de-estrategias-de-clustering-en-la-economia/segmentacion/lib/python3.8/site-packages/matplotlib/backend_bases.py?line=2057'>2058</a>\u001b[0m \u001b[39mif\u001b[39;00m \u001b[39mnot\u001b[39;00m \u001b[39mself\u001b[39m\u001b[39m.\u001b[39m_is_idle_drawing:\n\u001b[1;32m   <a href='file:///Users/adriancarmona/Desktop/ADE_TFG_REPO/Analisis-de-estrategias-de-clustering-en-la-economia/segmentacion/lib/python3.8/site-packages/matplotlib/backend_bases.py?line=2058'>2059</a>\u001b[0m     \u001b[39mwith\u001b[39;00m \u001b[39mself\u001b[39m\u001b[39m.\u001b[39m_idle_draw_cntx():\n\u001b[0;32m-> <a href='file:///Users/adriancarmona/Desktop/ADE_TFG_REPO/Analisis-de-estrategias-de-clustering-en-la-economia/segmentacion/lib/python3.8/site-packages/matplotlib/backend_bases.py?line=2059'>2060</a>\u001b[0m         \u001b[39mself\u001b[39;49m\u001b[39m.\u001b[39;49mdraw(\u001b[39m*\u001b[39;49margs, \u001b[39m*\u001b[39;49m\u001b[39m*\u001b[39;49mkwargs)\n",
      "File \u001b[0;32m~/Desktop/ADE_TFG_REPO/Analisis-de-estrategias-de-clustering-en-la-economia/segmentacion/lib/python3.8/site-packages/matplotlib/backends/backend_agg.py:436\u001b[0m, in \u001b[0;36mFigureCanvasAgg.draw\u001b[0;34m(self)\u001b[0m\n\u001b[1;32m    <a href='file:///Users/adriancarmona/Desktop/ADE_TFG_REPO/Analisis-de-estrategias-de-clustering-en-la-economia/segmentacion/lib/python3.8/site-packages/matplotlib/backends/backend_agg.py?line=431'>432</a>\u001b[0m \u001b[39m# Acquire a lock on the shared font cache.\u001b[39;00m\n\u001b[1;32m    <a href='file:///Users/adriancarmona/Desktop/ADE_TFG_REPO/Analisis-de-estrategias-de-clustering-en-la-economia/segmentacion/lib/python3.8/site-packages/matplotlib/backends/backend_agg.py?line=432'>433</a>\u001b[0m \u001b[39mwith\u001b[39;00m RendererAgg\u001b[39m.\u001b[39mlock, \\\n\u001b[1;32m    <a href='file:///Users/adriancarmona/Desktop/ADE_TFG_REPO/Analisis-de-estrategias-de-clustering-en-la-economia/segmentacion/lib/python3.8/site-packages/matplotlib/backends/backend_agg.py?line=433'>434</a>\u001b[0m      (\u001b[39mself\u001b[39m\u001b[39m.\u001b[39mtoolbar\u001b[39m.\u001b[39m_wait_cursor_for_draw_cm() \u001b[39mif\u001b[39;00m \u001b[39mself\u001b[39m\u001b[39m.\u001b[39mtoolbar\n\u001b[1;32m    <a href='file:///Users/adriancarmona/Desktop/ADE_TFG_REPO/Analisis-de-estrategias-de-clustering-en-la-economia/segmentacion/lib/python3.8/site-packages/matplotlib/backends/backend_agg.py?line=434'>435</a>\u001b[0m       \u001b[39melse\u001b[39;00m nullcontext()):\n\u001b[0;32m--> <a href='file:///Users/adriancarmona/Desktop/ADE_TFG_REPO/Analisis-de-estrategias-de-clustering-en-la-economia/segmentacion/lib/python3.8/site-packages/matplotlib/backends/backend_agg.py?line=435'>436</a>\u001b[0m     \u001b[39mself\u001b[39;49m\u001b[39m.\u001b[39;49mfigure\u001b[39m.\u001b[39;49mdraw(\u001b[39mself\u001b[39;49m\u001b[39m.\u001b[39;49mrenderer)\n\u001b[1;32m    <a href='file:///Users/adriancarmona/Desktop/ADE_TFG_REPO/Analisis-de-estrategias-de-clustering-en-la-economia/segmentacion/lib/python3.8/site-packages/matplotlib/backends/backend_agg.py?line=436'>437</a>\u001b[0m     \u001b[39m# A GUI class may be need to update a window using this draw, so\u001b[39;00m\n\u001b[1;32m    <a href='file:///Users/adriancarmona/Desktop/ADE_TFG_REPO/Analisis-de-estrategias-de-clustering-en-la-economia/segmentacion/lib/python3.8/site-packages/matplotlib/backends/backend_agg.py?line=437'>438</a>\u001b[0m     \u001b[39m# don't forget to call the superclass.\u001b[39;00m\n\u001b[1;32m    <a href='file:///Users/adriancarmona/Desktop/ADE_TFG_REPO/Analisis-de-estrategias-de-clustering-en-la-economia/segmentacion/lib/python3.8/site-packages/matplotlib/backends/backend_agg.py?line=438'>439</a>\u001b[0m     \u001b[39msuper\u001b[39m()\u001b[39m.\u001b[39mdraw()\n",
      "File \u001b[0;32m~/Desktop/ADE_TFG_REPO/Analisis-de-estrategias-de-clustering-en-la-economia/segmentacion/lib/python3.8/site-packages/matplotlib/artist.py:73\u001b[0m, in \u001b[0;36m_finalize_rasterization.<locals>.draw_wrapper\u001b[0;34m(artist, renderer, *args, **kwargs)\u001b[0m\n\u001b[1;32m     <a href='file:///Users/adriancarmona/Desktop/ADE_TFG_REPO/Analisis-de-estrategias-de-clustering-en-la-economia/segmentacion/lib/python3.8/site-packages/matplotlib/artist.py?line=70'>71</a>\u001b[0m \u001b[39m@wraps\u001b[39m(draw)\n\u001b[1;32m     <a href='file:///Users/adriancarmona/Desktop/ADE_TFG_REPO/Analisis-de-estrategias-de-clustering-en-la-economia/segmentacion/lib/python3.8/site-packages/matplotlib/artist.py?line=71'>72</a>\u001b[0m \u001b[39mdef\u001b[39;00m \u001b[39mdraw_wrapper\u001b[39m(artist, renderer, \u001b[39m*\u001b[39margs, \u001b[39m*\u001b[39m\u001b[39m*\u001b[39mkwargs):\n\u001b[0;32m---> <a href='file:///Users/adriancarmona/Desktop/ADE_TFG_REPO/Analisis-de-estrategias-de-clustering-en-la-economia/segmentacion/lib/python3.8/site-packages/matplotlib/artist.py?line=72'>73</a>\u001b[0m     result \u001b[39m=\u001b[39m draw(artist, renderer, \u001b[39m*\u001b[39;49margs, \u001b[39m*\u001b[39;49m\u001b[39m*\u001b[39;49mkwargs)\n\u001b[1;32m     <a href='file:///Users/adriancarmona/Desktop/ADE_TFG_REPO/Analisis-de-estrategias-de-clustering-en-la-economia/segmentacion/lib/python3.8/site-packages/matplotlib/artist.py?line=73'>74</a>\u001b[0m     \u001b[39mif\u001b[39;00m renderer\u001b[39m.\u001b[39m_rasterizing:\n\u001b[1;32m     <a href='file:///Users/adriancarmona/Desktop/ADE_TFG_REPO/Analisis-de-estrategias-de-clustering-en-la-economia/segmentacion/lib/python3.8/site-packages/matplotlib/artist.py?line=74'>75</a>\u001b[0m         renderer\u001b[39m.\u001b[39mstop_rasterizing()\n",
      "File \u001b[0;32m~/Desktop/ADE_TFG_REPO/Analisis-de-estrategias-de-clustering-en-la-economia/segmentacion/lib/python3.8/site-packages/matplotlib/artist.py:50\u001b[0m, in \u001b[0;36mallow_rasterization.<locals>.draw_wrapper\u001b[0;34m(artist, renderer)\u001b[0m\n\u001b[1;32m     <a href='file:///Users/adriancarmona/Desktop/ADE_TFG_REPO/Analisis-de-estrategias-de-clustering-en-la-economia/segmentacion/lib/python3.8/site-packages/matplotlib/artist.py?line=46'>47</a>\u001b[0m     \u001b[39mif\u001b[39;00m artist\u001b[39m.\u001b[39mget_agg_filter() \u001b[39mis\u001b[39;00m \u001b[39mnot\u001b[39;00m \u001b[39mNone\u001b[39;00m:\n\u001b[1;32m     <a href='file:///Users/adriancarmona/Desktop/ADE_TFG_REPO/Analisis-de-estrategias-de-clustering-en-la-economia/segmentacion/lib/python3.8/site-packages/matplotlib/artist.py?line=47'>48</a>\u001b[0m         renderer\u001b[39m.\u001b[39mstart_filter()\n\u001b[0;32m---> <a href='file:///Users/adriancarmona/Desktop/ADE_TFG_REPO/Analisis-de-estrategias-de-clustering-en-la-economia/segmentacion/lib/python3.8/site-packages/matplotlib/artist.py?line=49'>50</a>\u001b[0m     \u001b[39mreturn\u001b[39;00m draw(artist, renderer)\n\u001b[1;32m     <a href='file:///Users/adriancarmona/Desktop/ADE_TFG_REPO/Analisis-de-estrategias-de-clustering-en-la-economia/segmentacion/lib/python3.8/site-packages/matplotlib/artist.py?line=50'>51</a>\u001b[0m \u001b[39mfinally\u001b[39;00m:\n\u001b[1;32m     <a href='file:///Users/adriancarmona/Desktop/ADE_TFG_REPO/Analisis-de-estrategias-de-clustering-en-la-economia/segmentacion/lib/python3.8/site-packages/matplotlib/artist.py?line=51'>52</a>\u001b[0m     \u001b[39mif\u001b[39;00m artist\u001b[39m.\u001b[39mget_agg_filter() \u001b[39mis\u001b[39;00m \u001b[39mnot\u001b[39;00m \u001b[39mNone\u001b[39;00m:\n",
      "File \u001b[0;32m~/Desktop/ADE_TFG_REPO/Analisis-de-estrategias-de-clustering-en-la-economia/segmentacion/lib/python3.8/site-packages/matplotlib/figure.py:2837\u001b[0m, in \u001b[0;36mFigure.draw\u001b[0;34m(self, renderer)\u001b[0m\n\u001b[1;32m   <a href='file:///Users/adriancarmona/Desktop/ADE_TFG_REPO/Analisis-de-estrategias-de-clustering-en-la-economia/segmentacion/lib/python3.8/site-packages/matplotlib/figure.py?line=2833'>2834</a>\u001b[0m         \u001b[39m# ValueError can occur when resizing a window.\u001b[39;00m\n\u001b[1;32m   <a href='file:///Users/adriancarmona/Desktop/ADE_TFG_REPO/Analisis-de-estrategias-de-clustering-en-la-economia/segmentacion/lib/python3.8/site-packages/matplotlib/figure.py?line=2835'>2836</a>\u001b[0m \u001b[39mself\u001b[39m\u001b[39m.\u001b[39mpatch\u001b[39m.\u001b[39mdraw(renderer)\n\u001b[0;32m-> <a href='file:///Users/adriancarmona/Desktop/ADE_TFG_REPO/Analisis-de-estrategias-de-clustering-en-la-economia/segmentacion/lib/python3.8/site-packages/matplotlib/figure.py?line=2836'>2837</a>\u001b[0m mimage\u001b[39m.\u001b[39;49m_draw_list_compositing_images(\n\u001b[1;32m   <a href='file:///Users/adriancarmona/Desktop/ADE_TFG_REPO/Analisis-de-estrategias-de-clustering-en-la-economia/segmentacion/lib/python3.8/site-packages/matplotlib/figure.py?line=2837'>2838</a>\u001b[0m     renderer, \u001b[39mself\u001b[39;49m, artists, \u001b[39mself\u001b[39;49m\u001b[39m.\u001b[39;49msuppressComposite)\n\u001b[1;32m   <a href='file:///Users/adriancarmona/Desktop/ADE_TFG_REPO/Analisis-de-estrategias-de-clustering-en-la-economia/segmentacion/lib/python3.8/site-packages/matplotlib/figure.py?line=2839'>2840</a>\u001b[0m \u001b[39mfor\u001b[39;00m sfig \u001b[39min\u001b[39;00m \u001b[39mself\u001b[39m\u001b[39m.\u001b[39msubfigs:\n\u001b[1;32m   <a href='file:///Users/adriancarmona/Desktop/ADE_TFG_REPO/Analisis-de-estrategias-de-clustering-en-la-economia/segmentacion/lib/python3.8/site-packages/matplotlib/figure.py?line=2840'>2841</a>\u001b[0m     sfig\u001b[39m.\u001b[39mdraw(renderer)\n",
      "File \u001b[0;32m~/Desktop/ADE_TFG_REPO/Analisis-de-estrategias-de-clustering-en-la-economia/segmentacion/lib/python3.8/site-packages/matplotlib/image.py:132\u001b[0m, in \u001b[0;36m_draw_list_compositing_images\u001b[0;34m(renderer, parent, artists, suppress_composite)\u001b[0m\n\u001b[1;32m    <a href='file:///Users/adriancarmona/Desktop/ADE_TFG_REPO/Analisis-de-estrategias-de-clustering-en-la-economia/segmentacion/lib/python3.8/site-packages/matplotlib/image.py?line=129'>130</a>\u001b[0m \u001b[39mif\u001b[39;00m not_composite \u001b[39mor\u001b[39;00m \u001b[39mnot\u001b[39;00m has_images:\n\u001b[1;32m    <a href='file:///Users/adriancarmona/Desktop/ADE_TFG_REPO/Analisis-de-estrategias-de-clustering-en-la-economia/segmentacion/lib/python3.8/site-packages/matplotlib/image.py?line=130'>131</a>\u001b[0m     \u001b[39mfor\u001b[39;00m a \u001b[39min\u001b[39;00m artists:\n\u001b[0;32m--> <a href='file:///Users/adriancarmona/Desktop/ADE_TFG_REPO/Analisis-de-estrategias-de-clustering-en-la-economia/segmentacion/lib/python3.8/site-packages/matplotlib/image.py?line=131'>132</a>\u001b[0m         a\u001b[39m.\u001b[39;49mdraw(renderer)\n\u001b[1;32m    <a href='file:///Users/adriancarmona/Desktop/ADE_TFG_REPO/Analisis-de-estrategias-de-clustering-en-la-economia/segmentacion/lib/python3.8/site-packages/matplotlib/image.py?line=132'>133</a>\u001b[0m \u001b[39melse\u001b[39;00m:\n\u001b[1;32m    <a href='file:///Users/adriancarmona/Desktop/ADE_TFG_REPO/Analisis-de-estrategias-de-clustering-en-la-economia/segmentacion/lib/python3.8/site-packages/matplotlib/image.py?line=133'>134</a>\u001b[0m     \u001b[39m# Composite any adjacent images together\u001b[39;00m\n\u001b[1;32m    <a href='file:///Users/adriancarmona/Desktop/ADE_TFG_REPO/Analisis-de-estrategias-de-clustering-en-la-economia/segmentacion/lib/python3.8/site-packages/matplotlib/image.py?line=134'>135</a>\u001b[0m     image_group \u001b[39m=\u001b[39m []\n",
      "File \u001b[0;32m~/Desktop/ADE_TFG_REPO/Analisis-de-estrategias-de-clustering-en-la-economia/segmentacion/lib/python3.8/site-packages/matplotlib/artist.py:50\u001b[0m, in \u001b[0;36mallow_rasterization.<locals>.draw_wrapper\u001b[0;34m(artist, renderer)\u001b[0m\n\u001b[1;32m     <a href='file:///Users/adriancarmona/Desktop/ADE_TFG_REPO/Analisis-de-estrategias-de-clustering-en-la-economia/segmentacion/lib/python3.8/site-packages/matplotlib/artist.py?line=46'>47</a>\u001b[0m     \u001b[39mif\u001b[39;00m artist\u001b[39m.\u001b[39mget_agg_filter() \u001b[39mis\u001b[39;00m \u001b[39mnot\u001b[39;00m \u001b[39mNone\u001b[39;00m:\n\u001b[1;32m     <a href='file:///Users/adriancarmona/Desktop/ADE_TFG_REPO/Analisis-de-estrategias-de-clustering-en-la-economia/segmentacion/lib/python3.8/site-packages/matplotlib/artist.py?line=47'>48</a>\u001b[0m         renderer\u001b[39m.\u001b[39mstart_filter()\n\u001b[0;32m---> <a href='file:///Users/adriancarmona/Desktop/ADE_TFG_REPO/Analisis-de-estrategias-de-clustering-en-la-economia/segmentacion/lib/python3.8/site-packages/matplotlib/artist.py?line=49'>50</a>\u001b[0m     \u001b[39mreturn\u001b[39;00m draw(artist, renderer)\n\u001b[1;32m     <a href='file:///Users/adriancarmona/Desktop/ADE_TFG_REPO/Analisis-de-estrategias-de-clustering-en-la-economia/segmentacion/lib/python3.8/site-packages/matplotlib/artist.py?line=50'>51</a>\u001b[0m \u001b[39mfinally\u001b[39;00m:\n\u001b[1;32m     <a href='file:///Users/adriancarmona/Desktop/ADE_TFG_REPO/Analisis-de-estrategias-de-clustering-en-la-economia/segmentacion/lib/python3.8/site-packages/matplotlib/artist.py?line=51'>52</a>\u001b[0m     \u001b[39mif\u001b[39;00m artist\u001b[39m.\u001b[39mget_agg_filter() \u001b[39mis\u001b[39;00m \u001b[39mnot\u001b[39;00m \u001b[39mNone\u001b[39;00m:\n",
      "File \u001b[0;32m~/Desktop/ADE_TFG_REPO/Analisis-de-estrategias-de-clustering-en-la-economia/segmentacion/lib/python3.8/site-packages/matplotlib/axes/_base.py:3091\u001b[0m, in \u001b[0;36m_AxesBase.draw\u001b[0;34m(self, renderer)\u001b[0m\n\u001b[1;32m   <a href='file:///Users/adriancarmona/Desktop/ADE_TFG_REPO/Analisis-de-estrategias-de-clustering-en-la-economia/segmentacion/lib/python3.8/site-packages/matplotlib/axes/_base.py?line=3087'>3088</a>\u001b[0m         a\u001b[39m.\u001b[39mdraw(renderer)\n\u001b[1;32m   <a href='file:///Users/adriancarmona/Desktop/ADE_TFG_REPO/Analisis-de-estrategias-de-clustering-en-la-economia/segmentacion/lib/python3.8/site-packages/matplotlib/axes/_base.py?line=3088'>3089</a>\u001b[0m     renderer\u001b[39m.\u001b[39mstop_rasterizing()\n\u001b[0;32m-> <a href='file:///Users/adriancarmona/Desktop/ADE_TFG_REPO/Analisis-de-estrategias-de-clustering-en-la-economia/segmentacion/lib/python3.8/site-packages/matplotlib/axes/_base.py?line=3090'>3091</a>\u001b[0m mimage\u001b[39m.\u001b[39;49m_draw_list_compositing_images(\n\u001b[1;32m   <a href='file:///Users/adriancarmona/Desktop/ADE_TFG_REPO/Analisis-de-estrategias-de-clustering-en-la-economia/segmentacion/lib/python3.8/site-packages/matplotlib/axes/_base.py?line=3091'>3092</a>\u001b[0m     renderer, \u001b[39mself\u001b[39;49m, artists, \u001b[39mself\u001b[39;49m\u001b[39m.\u001b[39;49mfigure\u001b[39m.\u001b[39;49msuppressComposite)\n\u001b[1;32m   <a href='file:///Users/adriancarmona/Desktop/ADE_TFG_REPO/Analisis-de-estrategias-de-clustering-en-la-economia/segmentacion/lib/python3.8/site-packages/matplotlib/axes/_base.py?line=3093'>3094</a>\u001b[0m renderer\u001b[39m.\u001b[39mclose_group(\u001b[39m'\u001b[39m\u001b[39maxes\u001b[39m\u001b[39m'\u001b[39m)\n\u001b[1;32m   <a href='file:///Users/adriancarmona/Desktop/ADE_TFG_REPO/Analisis-de-estrategias-de-clustering-en-la-economia/segmentacion/lib/python3.8/site-packages/matplotlib/axes/_base.py?line=3094'>3095</a>\u001b[0m \u001b[39mself\u001b[39m\u001b[39m.\u001b[39mstale \u001b[39m=\u001b[39m \u001b[39mFalse\u001b[39;00m\n",
      "File \u001b[0;32m~/Desktop/ADE_TFG_REPO/Analisis-de-estrategias-de-clustering-en-la-economia/segmentacion/lib/python3.8/site-packages/matplotlib/image.py:132\u001b[0m, in \u001b[0;36m_draw_list_compositing_images\u001b[0;34m(renderer, parent, artists, suppress_composite)\u001b[0m\n\u001b[1;32m    <a href='file:///Users/adriancarmona/Desktop/ADE_TFG_REPO/Analisis-de-estrategias-de-clustering-en-la-economia/segmentacion/lib/python3.8/site-packages/matplotlib/image.py?line=129'>130</a>\u001b[0m \u001b[39mif\u001b[39;00m not_composite \u001b[39mor\u001b[39;00m \u001b[39mnot\u001b[39;00m has_images:\n\u001b[1;32m    <a href='file:///Users/adriancarmona/Desktop/ADE_TFG_REPO/Analisis-de-estrategias-de-clustering-en-la-economia/segmentacion/lib/python3.8/site-packages/matplotlib/image.py?line=130'>131</a>\u001b[0m     \u001b[39mfor\u001b[39;00m a \u001b[39min\u001b[39;00m artists:\n\u001b[0;32m--> <a href='file:///Users/adriancarmona/Desktop/ADE_TFG_REPO/Analisis-de-estrategias-de-clustering-en-la-economia/segmentacion/lib/python3.8/site-packages/matplotlib/image.py?line=131'>132</a>\u001b[0m         a\u001b[39m.\u001b[39;49mdraw(renderer)\n\u001b[1;32m    <a href='file:///Users/adriancarmona/Desktop/ADE_TFG_REPO/Analisis-de-estrategias-de-clustering-en-la-economia/segmentacion/lib/python3.8/site-packages/matplotlib/image.py?line=132'>133</a>\u001b[0m \u001b[39melse\u001b[39;00m:\n\u001b[1;32m    <a href='file:///Users/adriancarmona/Desktop/ADE_TFG_REPO/Analisis-de-estrategias-de-clustering-en-la-economia/segmentacion/lib/python3.8/site-packages/matplotlib/image.py?line=133'>134</a>\u001b[0m     \u001b[39m# Composite any adjacent images together\u001b[39;00m\n\u001b[1;32m    <a href='file:///Users/adriancarmona/Desktop/ADE_TFG_REPO/Analisis-de-estrategias-de-clustering-en-la-economia/segmentacion/lib/python3.8/site-packages/matplotlib/image.py?line=134'>135</a>\u001b[0m     image_group \u001b[39m=\u001b[39m []\n",
      "File \u001b[0;32m~/Desktop/ADE_TFG_REPO/Analisis-de-estrategias-de-clustering-en-la-economia/segmentacion/lib/python3.8/site-packages/matplotlib/artist.py:50\u001b[0m, in \u001b[0;36mallow_rasterization.<locals>.draw_wrapper\u001b[0;34m(artist, renderer)\u001b[0m\n\u001b[1;32m     <a href='file:///Users/adriancarmona/Desktop/ADE_TFG_REPO/Analisis-de-estrategias-de-clustering-en-la-economia/segmentacion/lib/python3.8/site-packages/matplotlib/artist.py?line=46'>47</a>\u001b[0m     \u001b[39mif\u001b[39;00m artist\u001b[39m.\u001b[39mget_agg_filter() \u001b[39mis\u001b[39;00m \u001b[39mnot\u001b[39;00m \u001b[39mNone\u001b[39;00m:\n\u001b[1;32m     <a href='file:///Users/adriancarmona/Desktop/ADE_TFG_REPO/Analisis-de-estrategias-de-clustering-en-la-economia/segmentacion/lib/python3.8/site-packages/matplotlib/artist.py?line=47'>48</a>\u001b[0m         renderer\u001b[39m.\u001b[39mstart_filter()\n\u001b[0;32m---> <a href='file:///Users/adriancarmona/Desktop/ADE_TFG_REPO/Analisis-de-estrategias-de-clustering-en-la-economia/segmentacion/lib/python3.8/site-packages/matplotlib/artist.py?line=49'>50</a>\u001b[0m     \u001b[39mreturn\u001b[39;00m draw(artist, renderer)\n\u001b[1;32m     <a href='file:///Users/adriancarmona/Desktop/ADE_TFG_REPO/Analisis-de-estrategias-de-clustering-en-la-economia/segmentacion/lib/python3.8/site-packages/matplotlib/artist.py?line=50'>51</a>\u001b[0m \u001b[39mfinally\u001b[39;00m:\n\u001b[1;32m     <a href='file:///Users/adriancarmona/Desktop/ADE_TFG_REPO/Analisis-de-estrategias-de-clustering-en-la-economia/segmentacion/lib/python3.8/site-packages/matplotlib/artist.py?line=51'>52</a>\u001b[0m     \u001b[39mif\u001b[39;00m artist\u001b[39m.\u001b[39mget_agg_filter() \u001b[39mis\u001b[39;00m \u001b[39mnot\u001b[39;00m \u001b[39mNone\u001b[39;00m:\n",
      "File \u001b[0;32m~/Desktop/ADE_TFG_REPO/Analisis-de-estrategias-de-clustering-en-la-economia/segmentacion/lib/python3.8/site-packages/matplotlib/collections.py:990\u001b[0m, in \u001b[0;36m_CollectionWithSizes.draw\u001b[0;34m(self, renderer)\u001b[0m\n\u001b[1;32m    <a href='file:///Users/adriancarmona/Desktop/ADE_TFG_REPO/Analisis-de-estrategias-de-clustering-en-la-economia/segmentacion/lib/python3.8/site-packages/matplotlib/collections.py?line=986'>987</a>\u001b[0m \u001b[39m@artist\u001b[39m\u001b[39m.\u001b[39mallow_rasterization\n\u001b[1;32m    <a href='file:///Users/adriancarmona/Desktop/ADE_TFG_REPO/Analisis-de-estrategias-de-clustering-en-la-economia/segmentacion/lib/python3.8/site-packages/matplotlib/collections.py?line=987'>988</a>\u001b[0m \u001b[39mdef\u001b[39;00m \u001b[39mdraw\u001b[39m(\u001b[39mself\u001b[39m, renderer):\n\u001b[1;32m    <a href='file:///Users/adriancarmona/Desktop/ADE_TFG_REPO/Analisis-de-estrategias-de-clustering-en-la-economia/segmentacion/lib/python3.8/site-packages/matplotlib/collections.py?line=988'>989</a>\u001b[0m     \u001b[39mself\u001b[39m\u001b[39m.\u001b[39mset_sizes(\u001b[39mself\u001b[39m\u001b[39m.\u001b[39m_sizes, \u001b[39mself\u001b[39m\u001b[39m.\u001b[39mfigure\u001b[39m.\u001b[39mdpi)\n\u001b[0;32m--> <a href='file:///Users/adriancarmona/Desktop/ADE_TFG_REPO/Analisis-de-estrategias-de-clustering-en-la-economia/segmentacion/lib/python3.8/site-packages/matplotlib/collections.py?line=989'>990</a>\u001b[0m     \u001b[39msuper\u001b[39;49m()\u001b[39m.\u001b[39;49mdraw(renderer)\n",
      "File \u001b[0;32m~/Desktop/ADE_TFG_REPO/Analisis-de-estrategias-de-clustering-en-la-economia/segmentacion/lib/python3.8/site-packages/matplotlib/artist.py:50\u001b[0m, in \u001b[0;36mallow_rasterization.<locals>.draw_wrapper\u001b[0;34m(artist, renderer)\u001b[0m\n\u001b[1;32m     <a href='file:///Users/adriancarmona/Desktop/ADE_TFG_REPO/Analisis-de-estrategias-de-clustering-en-la-economia/segmentacion/lib/python3.8/site-packages/matplotlib/artist.py?line=46'>47</a>\u001b[0m     \u001b[39mif\u001b[39;00m artist\u001b[39m.\u001b[39mget_agg_filter() \u001b[39mis\u001b[39;00m \u001b[39mnot\u001b[39;00m \u001b[39mNone\u001b[39;00m:\n\u001b[1;32m     <a href='file:///Users/adriancarmona/Desktop/ADE_TFG_REPO/Analisis-de-estrategias-de-clustering-en-la-economia/segmentacion/lib/python3.8/site-packages/matplotlib/artist.py?line=47'>48</a>\u001b[0m         renderer\u001b[39m.\u001b[39mstart_filter()\n\u001b[0;32m---> <a href='file:///Users/adriancarmona/Desktop/ADE_TFG_REPO/Analisis-de-estrategias-de-clustering-en-la-economia/segmentacion/lib/python3.8/site-packages/matplotlib/artist.py?line=49'>50</a>\u001b[0m     \u001b[39mreturn\u001b[39;00m draw(artist, renderer)\n\u001b[1;32m     <a href='file:///Users/adriancarmona/Desktop/ADE_TFG_REPO/Analisis-de-estrategias-de-clustering-en-la-economia/segmentacion/lib/python3.8/site-packages/matplotlib/artist.py?line=50'>51</a>\u001b[0m \u001b[39mfinally\u001b[39;00m:\n\u001b[1;32m     <a href='file:///Users/adriancarmona/Desktop/ADE_TFG_REPO/Analisis-de-estrategias-de-clustering-en-la-economia/segmentacion/lib/python3.8/site-packages/matplotlib/artist.py?line=51'>52</a>\u001b[0m     \u001b[39mif\u001b[39;00m artist\u001b[39m.\u001b[39mget_agg_filter() \u001b[39mis\u001b[39;00m \u001b[39mnot\u001b[39;00m \u001b[39mNone\u001b[39;00m:\n",
      "File \u001b[0;32m~/Desktop/ADE_TFG_REPO/Analisis-de-estrategias-de-clustering-en-la-economia/segmentacion/lib/python3.8/site-packages/matplotlib/collections.py:424\u001b[0m, in \u001b[0;36mCollection.draw\u001b[0;34m(self, renderer)\u001b[0m\n\u001b[1;32m    <a href='file:///Users/adriancarmona/Desktop/ADE_TFG_REPO/Analisis-de-estrategias-de-clustering-en-la-economia/segmentacion/lib/python3.8/site-packages/matplotlib/collections.py?line=419'>420</a>\u001b[0m     renderer\u001b[39m.\u001b[39mdraw_markers(\n\u001b[1;32m    <a href='file:///Users/adriancarmona/Desktop/ADE_TFG_REPO/Analisis-de-estrategias-de-clustering-en-la-economia/segmentacion/lib/python3.8/site-packages/matplotlib/collections.py?line=420'>421</a>\u001b[0m         gc, paths[\u001b[39m0\u001b[39m], combined_transform\u001b[39m.\u001b[39mfrozen(),\n\u001b[1;32m    <a href='file:///Users/adriancarmona/Desktop/ADE_TFG_REPO/Analisis-de-estrategias-de-clustering-en-la-economia/segmentacion/lib/python3.8/site-packages/matplotlib/collections.py?line=421'>422</a>\u001b[0m         mpath\u001b[39m.\u001b[39mPath(offsets), transOffset, \u001b[39mtuple\u001b[39m(facecolors[\u001b[39m0\u001b[39m]))\n\u001b[1;32m    <a href='file:///Users/adriancarmona/Desktop/ADE_TFG_REPO/Analisis-de-estrategias-de-clustering-en-la-economia/segmentacion/lib/python3.8/site-packages/matplotlib/collections.py?line=422'>423</a>\u001b[0m \u001b[39melse\u001b[39;00m:\n\u001b[0;32m--> <a href='file:///Users/adriancarmona/Desktop/ADE_TFG_REPO/Analisis-de-estrategias-de-clustering-en-la-economia/segmentacion/lib/python3.8/site-packages/matplotlib/collections.py?line=423'>424</a>\u001b[0m     renderer\u001b[39m.\u001b[39;49mdraw_path_collection(\n\u001b[1;32m    <a href='file:///Users/adriancarmona/Desktop/ADE_TFG_REPO/Analisis-de-estrategias-de-clustering-en-la-economia/segmentacion/lib/python3.8/site-packages/matplotlib/collections.py?line=424'>425</a>\u001b[0m         gc, transform\u001b[39m.\u001b[39;49mfrozen(), paths,\n\u001b[1;32m    <a href='file:///Users/adriancarmona/Desktop/ADE_TFG_REPO/Analisis-de-estrategias-de-clustering-en-la-economia/segmentacion/lib/python3.8/site-packages/matplotlib/collections.py?line=425'>426</a>\u001b[0m         \u001b[39mself\u001b[39;49m\u001b[39m.\u001b[39;49mget_transforms(), offsets, transOffset,\n\u001b[1;32m    <a href='file:///Users/adriancarmona/Desktop/ADE_TFG_REPO/Analisis-de-estrategias-de-clustering-en-la-economia/segmentacion/lib/python3.8/site-packages/matplotlib/collections.py?line=426'>427</a>\u001b[0m         \u001b[39mself\u001b[39;49m\u001b[39m.\u001b[39;49mget_facecolor(), \u001b[39mself\u001b[39;49m\u001b[39m.\u001b[39;49mget_edgecolor(),\n\u001b[1;32m    <a href='file:///Users/adriancarmona/Desktop/ADE_TFG_REPO/Analisis-de-estrategias-de-clustering-en-la-economia/segmentacion/lib/python3.8/site-packages/matplotlib/collections.py?line=427'>428</a>\u001b[0m         \u001b[39mself\u001b[39;49m\u001b[39m.\u001b[39;49m_linewidths, \u001b[39mself\u001b[39;49m\u001b[39m.\u001b[39;49m_linestyles,\n\u001b[1;32m    <a href='file:///Users/adriancarmona/Desktop/ADE_TFG_REPO/Analisis-de-estrategias-de-clustering-en-la-economia/segmentacion/lib/python3.8/site-packages/matplotlib/collections.py?line=428'>429</a>\u001b[0m         \u001b[39mself\u001b[39;49m\u001b[39m.\u001b[39;49m_antialiaseds, \u001b[39mself\u001b[39;49m\u001b[39m.\u001b[39;49m_urls,\n\u001b[1;32m    <a href='file:///Users/adriancarmona/Desktop/ADE_TFG_REPO/Analisis-de-estrategias-de-clustering-en-la-economia/segmentacion/lib/python3.8/site-packages/matplotlib/collections.py?line=429'>430</a>\u001b[0m         \u001b[39mself\u001b[39;49m\u001b[39m.\u001b[39;49m_offset_position)\n\u001b[1;32m    <a href='file:///Users/adriancarmona/Desktop/ADE_TFG_REPO/Analisis-de-estrategias-de-clustering-en-la-economia/segmentacion/lib/python3.8/site-packages/matplotlib/collections.py?line=431'>432</a>\u001b[0m gc\u001b[39m.\u001b[39mrestore()\n\u001b[1;32m    <a href='file:///Users/adriancarmona/Desktop/ADE_TFG_REPO/Analisis-de-estrategias-de-clustering-en-la-economia/segmentacion/lib/python3.8/site-packages/matplotlib/collections.py?line=432'>433</a>\u001b[0m renderer\u001b[39m.\u001b[39mclose_group(\u001b[39mself\u001b[39m\u001b[39m.\u001b[39m\u001b[39m__class__\u001b[39m\u001b[39m.\u001b[39m\u001b[39m__name__\u001b[39m)\n",
      "File \u001b[0;32m~/Desktop/ADE_TFG_REPO/Analisis-de-estrategias-de-clustering-en-la-economia/segmentacion/lib/python3.8/site-packages/matplotlib/path.py:200\u001b[0m, in \u001b[0;36mPath.vertices\u001b[0;34m(self)\u001b[0m\n\u001b[1;32m    <a href='file:///Users/adriancarmona/Desktop/ADE_TFG_REPO/Analisis-de-estrategias-de-clustering-en-la-economia/segmentacion/lib/python3.8/site-packages/matplotlib/path.py?line=191'>192</a>\u001b[0m     \u001b[39mself\u001b[39m\u001b[39m.\u001b[39m_simplify_threshold \u001b[39m=\u001b[39m mpl\u001b[39m.\u001b[39mrcParams[\u001b[39m'\u001b[39m\u001b[39mpath.simplify_threshold\u001b[39m\u001b[39m'\u001b[39m]\n\u001b[1;32m    <a href='file:///Users/adriancarmona/Desktop/ADE_TFG_REPO/Analisis-de-estrategias-de-clustering-en-la-economia/segmentacion/lib/python3.8/site-packages/matplotlib/path.py?line=192'>193</a>\u001b[0m     \u001b[39mself\u001b[39m\u001b[39m.\u001b[39m_should_simplify \u001b[39m=\u001b[39m (\n\u001b[1;32m    <a href='file:///Users/adriancarmona/Desktop/ADE_TFG_REPO/Analisis-de-estrategias-de-clustering-en-la-economia/segmentacion/lib/python3.8/site-packages/matplotlib/path.py?line=193'>194</a>\u001b[0m         \u001b[39mself\u001b[39m\u001b[39m.\u001b[39m_simplify_threshold \u001b[39m>\u001b[39m \u001b[39m0\u001b[39m \u001b[39mand\u001b[39;00m\n\u001b[1;32m    <a href='file:///Users/adriancarmona/Desktop/ADE_TFG_REPO/Analisis-de-estrategias-de-clustering-en-la-economia/segmentacion/lib/python3.8/site-packages/matplotlib/path.py?line=194'>195</a>\u001b[0m         mpl\u001b[39m.\u001b[39mrcParams[\u001b[39m'\u001b[39m\u001b[39mpath.simplify\u001b[39m\u001b[39m'\u001b[39m] \u001b[39mand\u001b[39;00m\n\u001b[1;32m    <a href='file:///Users/adriancarmona/Desktop/ADE_TFG_REPO/Analisis-de-estrategias-de-clustering-en-la-economia/segmentacion/lib/python3.8/site-packages/matplotlib/path.py?line=195'>196</a>\u001b[0m         \u001b[39mlen\u001b[39m(\u001b[39mself\u001b[39m\u001b[39m.\u001b[39m_vertices) \u001b[39m>\u001b[39m\u001b[39m=\u001b[39m \u001b[39m128\u001b[39m \u001b[39mand\u001b[39;00m\n\u001b[1;32m    <a href='file:///Users/adriancarmona/Desktop/ADE_TFG_REPO/Analisis-de-estrategias-de-clustering-en-la-economia/segmentacion/lib/python3.8/site-packages/matplotlib/path.py?line=196'>197</a>\u001b[0m         (\u001b[39mself\u001b[39m\u001b[39m.\u001b[39m_codes \u001b[39mis\u001b[39;00m \u001b[39mNone\u001b[39;00m \u001b[39mor\u001b[39;00m np\u001b[39m.\u001b[39mall(\u001b[39mself\u001b[39m\u001b[39m.\u001b[39m_codes \u001b[39m<\u001b[39m\u001b[39m=\u001b[39m Path\u001b[39m.\u001b[39mLINETO))\n\u001b[1;32m    <a href='file:///Users/adriancarmona/Desktop/ADE_TFG_REPO/Analisis-de-estrategias-de-clustering-en-la-economia/segmentacion/lib/python3.8/site-packages/matplotlib/path.py?line=197'>198</a>\u001b[0m     )\n\u001b[0;32m--> <a href='file:///Users/adriancarmona/Desktop/ADE_TFG_REPO/Analisis-de-estrategias-de-clustering-en-la-economia/segmentacion/lib/python3.8/site-packages/matplotlib/path.py?line=199'>200</a>\u001b[0m \u001b[39m@property\u001b[39m\n\u001b[1;32m    <a href='file:///Users/adriancarmona/Desktop/ADE_TFG_REPO/Analisis-de-estrategias-de-clustering-en-la-economia/segmentacion/lib/python3.8/site-packages/matplotlib/path.py?line=200'>201</a>\u001b[0m \u001b[39mdef\u001b[39;00m \u001b[39mvertices\u001b[39m(\u001b[39mself\u001b[39m):\n\u001b[1;32m    <a href='file:///Users/adriancarmona/Desktop/ADE_TFG_REPO/Analisis-de-estrategias-de-clustering-en-la-economia/segmentacion/lib/python3.8/site-packages/matplotlib/path.py?line=201'>202</a>\u001b[0m     \u001b[39m\"\"\"\u001b[39;00m\n\u001b[1;32m    <a href='file:///Users/adriancarmona/Desktop/ADE_TFG_REPO/Analisis-de-estrategias-de-clustering-en-la-economia/segmentacion/lib/python3.8/site-packages/matplotlib/path.py?line=202'>203</a>\u001b[0m \u001b[39m    The list of vertices in the `Path` as an Nx2 numpy array.\u001b[39;00m\n\u001b[1;32m    <a href='file:///Users/adriancarmona/Desktop/ADE_TFG_REPO/Analisis-de-estrategias-de-clustering-en-la-economia/segmentacion/lib/python3.8/site-packages/matplotlib/path.py?line=203'>204</a>\u001b[0m \u001b[39m    \"\"\"\u001b[39;00m\n\u001b[1;32m    <a href='file:///Users/adriancarmona/Desktop/ADE_TFG_REPO/Analisis-de-estrategias-de-clustering-en-la-economia/segmentacion/lib/python3.8/site-packages/matplotlib/path.py?line=204'>205</a>\u001b[0m     \u001b[39mreturn\u001b[39;00m \u001b[39mself\u001b[39m\u001b[39m.\u001b[39m_vertices\n",
      "\u001b[0;31mKeyboardInterrupt\u001b[0m: "
     ]
    }
   ],
   "source": [
    "## KMEANS\n",
    "kmeans_SC_mat = scatter_matrix(df__kmeans_clusters, colors_kmeans)\n",
    "plt.savefig(\"./sc_matrix/kmeans_sc_matrix.png\", dpi=100)\n",
    "\n",
    "## MEANSHIFT\n",
    "meanshift_SC_mat = scatter_matrix(df_meanshift_clusters, colors_meanshift)\n",
    "plt.savefig('./sc_matrix/meanshift_sc_matrix.png', dpi=100)\n",
    "\n",
    "## AGLOMERATIVO\n",
    "aglomerativo_sc_mat = scatter_matrix(df_aglomerativo_clusters, colors_aglomerativo)\n",
    "plt.savefig('./sc_matrix/aglomerativo_sc_matrix.png', dpi=100)\n",
    "\n",
    "## DBSCAN\n",
    "dbscan_SC_mat = scatter_matrix(df_dbscan_clusters, colors_dbscan)\n",
    "plt.savefig('./sc_matrix/dbscan_sc_matrix.png', dpi=100)\n",
    "\n",
    "## OPTICS\n",
    "optics_SC_mat = scatter_matrix(df_optics_clusters, colors_optics)\n",
    "plt.savefig('./sc_matrix/optics_sc_matrix.png', dpi=100)\n",
    "\n",
    "## GM\n",
    "gm_sc_mat = scatter_matrix(df_gm_clusters, colors_gm)\n",
    "plt.savefig('./sc_matrix/gm_sc_matrix.png', dpi=100)"
   ]
  },
  {
   "cell_type": "markdown",
   "id": "3a717326",
   "metadata": {
    "papermill": {
     "duration": 0.046042,
     "end_time": "2022-02-20T09:11:59.777337",
     "exception": false,
     "start_time": "2022-02-20T09:11:59.731295",
     "status": "completed"
    },
    "tags": []
   },
   "source": [
    "# 6. Reducción de la dimensionalidad \n",
    "\n",
    "En este apartado se pretende obtener una visualizacion mas limpia sobre los datos. Con este objetivo, se reducirán las variables de nueve a dos. Se va a hacer uso del Analisis de Componentes Principales. Dicho tipo de técnica se detalla en la memoria del trabajo. Mas concretamente en la seccion de *Caso de uso*\n",
    "\n"
   ]
  },
  {
   "cell_type": "code",
   "execution_count": null,
   "id": "39d4fb72",
   "metadata": {
    "_cell_guid": "7d6c692a-8ed6-424b-8d3e-6e9cb7f0b5c6",
    "_uuid": "50a8f783-88ff-48a8-90f9-ef44ccc74d58",
    "collapsed": false,
    "execution": {
     "iopub.execute_input": "2022-02-20T09:11:59.877684Z",
     "iopub.status.busy": "2022-02-20T09:11:59.876774Z",
     "iopub.status.idle": "2022-02-20T09:11:59.912453Z",
     "shell.execute_reply": "2022-02-20T09:11:59.913628Z",
     "shell.execute_reply.started": "2021-10-11T12:04:54.269431Z"
    },
    "jupyter": {
     "outputs_hidden": false
    },
    "papermill": {
     "duration": 0.090246,
     "end_time": "2022-02-20T09:11:59.913855",
     "exception": false,
     "start_time": "2022-02-20T09:11:59.823609",
     "status": "completed"
    },
    "tags": []
   },
   "outputs": [],
   "source": [
    "datos_normalizados_reducido = PCA(n_components=2).fit_transform(df_normalizado.copy())\n",
    "df_normalizado_reducido = pd.DataFrame(datos_normalizados_reducido, columns=['PC1','PC2'])"
   ]
  },
  {
   "cell_type": "markdown",
   "id": "9ec68bfe",
   "metadata": {},
   "source": [
    "Podemos comprobar que el numero de variables se ha reducido a 2"
   ]
  },
  {
   "cell_type": "code",
   "execution_count": null,
   "id": "8b4f3c42",
   "metadata": {},
   "outputs": [
    {
     "data": {
      "text/plain": [
       "(8068, 2)"
      ]
     },
     "execution_count": 142,
     "metadata": {},
     "output_type": "execute_result"
    }
   ],
   "source": [
    "df_normalizado_reducido.shape"
   ]
  },
  {
   "cell_type": "markdown",
   "id": "f6024f6b",
   "metadata": {},
   "source": [
    "## 6.1 Mineria de datos. Clustering."
   ]
  },
  {
   "cell_type": "markdown",
   "id": "7eda1933",
   "metadata": {},
   "source": [
    "### 6.1.1. Ejecución"
   ]
  },
  {
   "cell_type": "code",
   "execution_count": null,
   "id": "1fe5d2e1",
   "metadata": {},
   "outputs": [
    {
     "name": "stdout",
     "output_type": "stream",
     "text": [
      " Etiquetas K-MEANS =  [0 1 3 ... 3 3 2]\n",
      "Número de clusteres diferentes =  4\n",
      " Etiquetas MEANSHIFT =  [0 0 0 ... 0 0 0]\n",
      "Número de clusteres diferentes =  1\n",
      "Etiquetas AGGLOMERATIVO  =  [2 1 3 ... 3 3 0]\n",
      "Número de clusteres diferentes =  4\n"
     ]
    },
    {
     "name": "stderr",
     "output_type": "stream",
     "text": [
      "/Users/adriancarmona/Desktop/ADE_TFG_REPO/Analisis-de-estrategias-de-clustering-en-la-economia/segmentacion/lib/python3.8/site-packages/seaborn/matrix.py:654: UserWarning: Clustering large matrix with scipy. Installing `fastcluster` may give better performance.\n",
      "  warnings.warn(msg)\n"
     ]
    },
    {
     "name": "stdout",
     "output_type": "stream",
     "text": [
      "Etiquetas DBSCAN  =  [0 1 1 ... 1 1 0]\n",
      "Número de clusteres diferentes =  2\n",
      "Etiquetas OPTICS  =  [0 1 1 ... 1 1 0]\n",
      "Número de clusteres diferentes =  2\n",
      "Etiquetas Expc-Max  =  [3 0 0 ... 0 0 3]\n",
      "Número de clusteres diferentes =  3\n"
     ]
    },
    {
     "data": {
      "image/png": "[encoded data removed]",
      "text/plain": [
       "<Figure size 1440x720 with 4 Axes>"
      ]
     },
     "metadata": {},
     "output_type": "display_data"
    }
   ],
   "source": [
    "# LLAMADA AL METODO FIT.\n",
    "## KMEANS\n",
    "kmeans.fit(df_normalizado_reducido)\n",
    "kmeans_labels = kmeans.labels_\n",
    "print(\" Etiquetas K-MEANS = \", kmeans_labels)\n",
    "print('Número de clusteres diferentes = ', len(set(kmeans_labels)))\n",
    "\n",
    "## MEANSHIFT\n",
    "meanshift.fit(df_normalizado_reducido)\n",
    "meanshift_labels = meanshift.labels_\n",
    "print(\" Etiquetas MEANSHIFT = \", meanshift_labels)\n",
    "print('Número de clusteres diferentes = ', len(set(meanshift_labels)))\n",
    "\n",
    "## CLUSTERING AGLOMERATIVO\n",
    "clustering_aglomerativo.fit(df_normalizado_reducido)\n",
    "clustering_aglomerativo_labels = clustering_aglomerativo.labels_\n",
    "print(\"Etiquetas AGGLOMERATIVO  = \", clustering_aglomerativo_labels)\n",
    "print('Número de clusteres diferentes = ', len(set(clustering_aglomerativo_labels)))\n",
    "\n",
    "sns.clustermap(df_normalizado, method='ward', figsize=(20,10), cmap=\"mako\", yticklabels=False)\n",
    "plt.savefig(\"dendrograma_reducido.png\")\n",
    "\n",
    "## DBSCAN\n",
    "dbscan.fit(df_normalizado_reducido)\n",
    "dbscan_labels = dbscan.labels_\n",
    "print(\"Etiquetas DBSCAN  = \", dbscan_labels)\n",
    "print('Número de clusteres diferentes = ', len(set(dbscan_labels)))\n",
    "\n",
    "## OPTICS\n",
    "optics.fit(df_normalizado_reducido)\n",
    "optics_labels = optics.labels_\n",
    "print(\"Etiquetas OPTICS  = \", optics_labels)\n",
    "print('Número de clusteres diferentes = ', len(set(optics_labels)))\n",
    "\n",
    "#CLUSTERING PROBABILISTICO\n",
    "gm_labels = gm.fit_predict(df_normalizado_reducido)\n",
    "print(\"Etiquetas Expc-Max  = \", gm_labels)\n",
    "print('Número de clusteres diferentes = ', len(set(gm_labels)))"
   ]
  },
  {
   "cell_type": "markdown",
   "id": "9d9f2667",
   "metadata": {},
   "source": [
    "## 6.2 Evaluación e interpretación de los resultados"
   ]
  },
  {
   "cell_type": "markdown",
   "id": "5cf8a961",
   "metadata": {},
   "source": [
    "### 6.2.1 Previsualización de resultados"
   ]
  },
  {
   "cell_type": "markdown",
   "id": "8aaff9d6",
   "metadata": {},
   "source": [
    "#### 6.2.1.1 Definicion de funciones"
   ]
  },
  {
   "cell_type": "code",
   "execution_count": null,
   "id": "bedcaa18",
   "metadata": {},
   "outputs": [],
   "source": [
    "def pinta_resultados(pca_res, centroids, numpy_labels,tecnica):\n",
    "    plt.figure(figsize=(15,10))\n",
    "    for i in numpy_labels:\n",
    "        mask = (pca_res[\"cluster\"] == i)\n",
    "        plt.scatter(pca_res.loc[mask]['PC1'], pca_res.loc[mask]['PC2'], label = i)\n",
    "    plt.scatter(centroids[:,0] , centroids[:,1] , s = 100, color = 'k', marker=\"^\")\n",
    "    plt.title('Clusters de clientes de automoviles: '+ tecnica)\n",
    "    plt.legend()\n",
    "    plt.show()"
   ]
  },
  {
   "cell_type": "markdown",
   "id": "b5899b01",
   "metadata": {},
   "source": [
    "#### 6.2.1.2 Tratamiento previo a la visualizacion"
   ]
  },
  {
   "cell_type": "code",
   "execution_count": null,
   "id": "274e2225",
   "metadata": {},
   "outputs": [],
   "source": [
    "## KMEANS\n",
    "centroides_kmeans, centroides_desnormalizados_kmeans    = get_clusters_centers_desnormal_kmeans_meanshift(kmeans,df_normalizado_reducido)\n",
    "resultados_kmeans                                       = pd.DataFrame(df_normalizado_reducido.copy())\n",
    "resultados_kmeans['cluster']                            = kmeans_labels\n",
    "resultados_kmeans.insert(0, \"CustomerID\", datos[\"CustomerID\"])\n",
    "\n",
    "## MEANSHIFT\n",
    "centroides_meanshift, centroides_desnormalizados_meanshift    = get_clusters_centers_desnormal_kmeans_meanshift(meanshift,df_normalizado_reducido)\n",
    "resultados_meanshift                                          = pd.DataFrame(df_normalizado_reducido.copy())\n",
    "resultados_meanshift['cluster']                               = meanshift_labels\n",
    "resultados_meanshift.insert(0, \"CustomerID\", datos[\"CustomerID\"])\n",
    "\n",
    "## CLUSTERING AGLOMERATIVO\n",
    "clusters_df_aglomerativo    = converse_clusters_to_dataframe(clustering_aglomerativo_labels, df_normalizado_reducido)\n",
    "resultados_aglomerativo     = pd.concat([df_normalizado_reducido, clusters_df_aglomerativo], axis=1)\n",
    "centroides_aglomerativo     = resultados_aglomerativo.groupby('cluster').mean()\n",
    "resultados_aglomerativo.insert(0, \"CustomerID\", datos[\"CustomerID\"])\n",
    "\n",
    "## DBSCAN\n",
    "clusters_df_DBSCAN   = converse_clusters_to_dataframe(dbscan_labels,df_normalizado_reducido)\n",
    "resultados_dbscan    = pd.concat([df_normalizado_reducido, clusters_df_DBSCAN], axis=1)\n",
    "centroides_dbscan    = resultados_dbscan.groupby('cluster').mean()\n",
    "resultados_dbscan.insert(0, \"CustomerID\", datos[\"CustomerID\"])\n",
    "\n",
    "## OPTICS\n",
    "clusters_df_optics  = converse_clusters_to_dataframe(optics_labels,df_normalizado_reducido)\n",
    "resultados_optics   = pd.concat([df_normalizado_reducido, clusters_df_optics], axis=1)\n",
    "centroides_optics   = resultados_optics.groupby('cluster').mean()\n",
    "resultados_optics.insert(0, \"CustomerID\", datos[\"CustomerID\"])\n",
    "\n",
    "#CLUSTERING PROBABILISTICO\n",
    "clusters_df_gm      = converse_clusters_to_dataframe(gm_labels,df_normalizado_reducido)\n",
    "resultados_gm       = pd.concat([df_normalizado_reducido, clusters_df_gm], axis=1)\n",
    "centroides_gm       = resultados_gm.groupby('cluster').mean()\n",
    "resultados_gm.insert(0, \"CustomerID\", datos[\"CustomerID\"])"
   ]
  },
  {
   "cell_type": "markdown",
   "id": "d134641d",
   "metadata": {},
   "source": [
    "## 6.3 Visualización"
   ]
  },
  {
   "cell_type": "code",
   "execution_count": null,
   "id": "c5be2f54",
   "metadata": {},
   "outputs": [
    {
     "data": {
      "image/png": "[encoded data removed]",
      "text/plain": [
       "<Figure size 1080x720 with 1 Axes>"
      ]
     },
     "metadata": {},
     "output_type": "display_data"
    },
    {
     "data": {
      "image/png": "[encoded data removed]",
      "text/plain": [
       "<Figure size 1080x720 with 1 Axes>"
      ]
     },
     "metadata": {},
     "output_type": "display_data"
    },
    {
     "data": {
      "image/png": "[encoded data removed]",
      "text/plain": [
       "<Figure size 1080x720 with 1 Axes>"
      ]
     },
     "metadata": {},
     "output_type": "display_data"
    },
    {
     "data": {
      "image/png": "[encoded data removed]",
      "text/plain": [
       "<Figure size 1080x720 with 1 Axes>"
      ]
     },
     "metadata": {},
     "output_type": "display_data"
    },
    {
     "data": {
      "image/png": "[encoded data removed]",
      "text/plain": [
       "<Figure size 1080x720 with 1 Axes>"
      ]
     },
     "metadata": {},
     "output_type": "display_data"
    }
   ],
   "source": [
    "pinta_resultados(resultados_kmeans, np.array(centroides_kmeans), np.unique(kmeans_labels),'K-means')\n",
    "plt.savefig('./PCA/kmeans.png')\n",
    "pinta_resultados(resultados_meanshift, np.array(centroides_meanshift), np.unique(meanshift_labels),'Meanshift')\n",
    "plt.savefig('./PCA/meanshift.png')\n",
    "pinta_resultados(resultados_aglomerativo, np.array(centroides_aglomerativo), np.unique(clustering_aglomerativo_labels), 'Aglomerativo')\n",
    "plt.savefig('./PCA/agglomerativo.png')\n",
    "pinta_resultados(resultados_dbscan, np.array(centroides_dbscan), np.unique(dbscan_labels),'DBSCAN')\n",
    "plt.savefig('./PCA/dbscan.png')\n",
    "pinta_resultados(resultados_optics, np.array(centroides_optics), np.unique(optics_labels),'OPTICS')\n",
    "plt.savefig('./PCA/optics.png')\n",
    "pinta_resultados(resultados_gm, np.array(centroides_gm), np.unique(gm_labels),'Esperanza - Maximización')\n",
    "plt.savefig('./PCA/gm.png')"
   ]
  }
 ],
 "metadata": {
  "interpreter": {
   "hash": "c5920f6b86a78f9376a1fca0c29862a81dd9876c08afe4e441f1044f390cae18"
  },
  "kernelspec": {
   "display_name": "Python 3.8.2 ('segmentacion': venv)",
   "language": "python",
   "name": "python3"
  },
  "language_info": {
   "codemirror_mode": {
    "name": "ipython",
    "version": 3
   },
   "file_extension": ".py",
   "mimetype": "text/x-python",
   "name": "python",
   "nbconvert_exporter": "python",
   "pygments_lexer": "ipython3",
   "version": "3.8.2"
  },
  "papermill": {
   "default_parameters": {},
   "duration": 15.356948,
   "end_time": "2022-02-20T09:12:01.781364",
   "environment_variables": {},
   "exception": null,
   "input_path": "__notebook__.ipynb",
   "output_path": "__notebook__.ipynb",
   "parameters": {},
   "start_time": "2022-02-20T09:11:46.424416",
   "version": "2.3.3"
  }
 },
 "nbformat": 4,
 "nbformat_minor": 5
}
